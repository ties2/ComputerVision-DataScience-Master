{
 "cells": [
  {
   "cell_type": "code",
   "execution_count": 45,
   "metadata": {
    "deletable": false,
    "editable": true
   },
   "outputs": [],
   "source": [
    "import torch"
   ]
  },
  {
   "cell_type": "markdown",
   "metadata": {
    "deletable": false,
    "editable": false
   },
   "source": [
    "<h1 id=\"exercise-1\"><strong>Exercise 1</strong></h1>\n"
   ]
  },
  {
   "cell_type": "markdown",
   "metadata": {
    "deletable": false,
    "editable": false
   },
   "source": [
    "<font size=\"4px\"><p>Creates a Tensor of range 'end - start' integers</p>\n",
    "<dl>\n",
    "<dt>param start</dt>\n",
    "<dd>\n",
    "number of the range\n",
    "</dd>\n",
    "<dt>param end</dt>\n",
    "<dd>\n",
    "end of the range\n",
    "</dd>\n",
    "<dt>return</dt>\n",
    "<dd>\n",
    "a tensor with the range\n",
    "</dd>\n",
    "</dl>\n",
    "</font>"
   ]
  },
  {
   "cell_type": "code",
   "execution_count": 46,
   "metadata": {
    "deletable": false,
    "editable": true
   },
   "outputs": [],
   "source": [
    "# Please add code to this function to complete the assignment.\n",
    "# You can use the description and code cells below to check you answer.\n",
    "# Tip: With print('hello') you can print debugging info.\n",
    "\n",
    "def create_range(start, end: int) -> torch.Tensor:\n",
    "    # Add/adjust code.\n",
    "    return torch.arange(0, 10, dtype=torch.int32)"
   ]
  },
  {
   "cell_type": "code",
   "execution_count": 47,
   "metadata": {
    "deletable": false,
    "editable": false
   },
   "outputs": [
    {
     "name": "stdout",
     "output_type": "stream",
     "text": [
      "<Test succeeded!>\n"
     ]
    }
   ],
   "source": [
    "# This cell performs a doctest of the function.\n",
    "newline = '\\n'\n",
    "your_answer = repr(create_range(0, 10)).strip()\n",
    "real_answer = str(\"tensor([0, 1, 2, 3, 4, 5, 6, 7, 8, 9], dtype=torch.int32)\")\n",
    "assert your_answer == real_answer, f'Wrong output, see details below. {newline}{newline}Your answer {newline}{newline}({your_answer}){newline}{newline}Desired answer {newline}{newline}({real_answer}){newline}{newline}'\n",
    "print('<Test succeeded!>')"
   ]
  },
  {
   "cell_type": "code",
   "execution_count": 48,
   "metadata": {
    "editable": true
   },
   "outputs": [],
   "source": [
    "# Please add code to this function to complete the assignment.\n",
    "# You can use the description and code cells below to check you answer.\n",
    "# Tip: With print('hello') you can print debugging info.\n",
    "\n",
    "def create_range(start, end: int) -> torch.Tensor:\n",
    "    # Add/adjust code.\n",
    "    return torch.arange(5, 9, dtype=torch.int32)"
   ]
  },
  {
   "cell_type": "code",
   "execution_count": 49,
   "metadata": {
    "deletable": false,
    "editable": false
   },
   "outputs": [
    {
     "name": "stdout",
     "output_type": "stream",
     "text": [
      "<Test succeeded!>\n"
     ]
    }
   ],
   "source": [
    "# This cell performs a doctest of the function.\n",
    "newline = '\\n'\n",
    "your_answer = repr(create_range(5, 9)).strip()\n",
    "real_answer = str(\"tensor([5, 6, 7, 8], dtype=torch.int32)\")\n",
    "assert your_answer == real_answer, f'Wrong output, see details below. {newline}{newline}Your answer {newline}{newline}({your_answer}){newline}{newline}Desired answer {newline}{newline}({real_answer}){newline}{newline}'\n",
    "print('<Test succeeded!>')"
   ]
  },
  {
   "cell_type": "markdown",
   "metadata": {
    "deletable": false,
    "editable": false
   },
   "source": [
    "<h1 id=\"exercise-2\"><strong>Exercise 2</strong></h1>\n"
   ]
  },
  {
   "cell_type": "markdown",
   "metadata": {
    "deletable": false,
    "editable": false
   },
   "source": [
    "<font size=\"4px\"><p>Returns the shape of a tensor</p>\n",
    "<dl>\n",
    "<dt>param tensor</dt>\n",
    "<dd>\n",
    "an n-dimensional Torch tensor\n",
    "</dd>\n",
    "<dt>return</dt>\n",
    "<dd>\n",
    "the shape of the tensor\n",
    "</dd>\n",
    "</dl>\n",
    "</font>"
   ]
  },
  {
   "cell_type": "code",
   "execution_count": 50,
   "metadata": {
    "deletable": false,
    "editable": true
   },
   "outputs": [],
   "source": [
    "# Please add code to this function to complete the assignment.\n",
    "# You can use the description and code cells below to check you answer.\n",
    "# Tip: With print('hello') you can print debugging info.\n",
    "\n",
    "def get_shape(tensor: torch.Tensor) -> torch.Size:\n",
    "    # Add/adjust code.\n",
    "    return tensor.shape"
   ]
  },
  {
   "cell_type": "code",
   "execution_count": 51,
   "metadata": {
    "deletable": false,
    "editable": false
   },
   "outputs": [
    {
     "name": "stdout",
     "output_type": "stream",
     "text": [
      "<Test succeeded!>\n"
     ]
    }
   ],
   "source": [
    "# This cell performs a doctest of the function.\n",
    "newline = '\\n'\n",
    "your_answer = repr(get_shape(torch.zeros(1, 2, 3, 4))).strip()\n",
    "real_answer = str(\"torch.Size([1, 2, 3, 4])\")\n",
    "assert your_answer == real_answer, f'Wrong output, see details below. {newline}{newline}Your answer {newline}{newline}({your_answer}){newline}{newline}Desired answer {newline}{newline}({real_answer}){newline}{newline}'\n",
    "print('<Test succeeded!>')"
   ]
  },
  {
   "cell_type": "code",
   "execution_count": 52,
   "metadata": {
    "deletable": false,
    "editable": false
   },
   "outputs": [
    {
     "name": "stdout",
     "output_type": "stream",
     "text": [
      "<Test succeeded!>\n"
     ]
    }
   ],
   "source": [
    "# This cell performs a doctest of the function.\n",
    "newline = '\\n'\n",
    "your_answer = repr(get_shape(torch.zeros(1, 3, 3, 4))).strip()\n",
    "real_answer = str(\"torch.Size([1, 3, 3, 4])\")\n",
    "assert your_answer == real_answer, f'Wrong output, see details below. {newline}{newline}Your answer {newline}{newline}({your_answer}){newline}{newline}Desired answer {newline}{newline}({real_answer}){newline}{newline}'\n",
    "print('<Test succeeded!>')"
   ]
  },
  {
   "cell_type": "markdown",
   "metadata": {
    "deletable": false,
    "editable": false
   },
   "source": [
    "<h1 id=\"exercise-3\"><strong>Exercise 3</strong></h1>\n"
   ]
  },
  {
   "cell_type": "markdown",
   "metadata": {
    "deletable": false,
    "editable": false
   },
   "source": [
    "<font size=\"4px\"><p>Returns the number of items in a torch tensor</p>\n",
    "<dl>\n",
    "<dt>param tensor</dt>\n",
    "<dd>\n",
    "an n-dimensional Torch tensor\n",
    "</dd>\n",
    "<dt>return</dt>\n",
    "<dd>\n",
    "the number of items in the tensor\n",
    "</dd>\n",
    "</dl>\n",
    "</font>"
   ]
  },
  {
   "cell_type": "code",
   "execution_count": 53,
   "metadata": {
    "deletable": false,
    "editable": true
   },
   "outputs": [],
   "source": [
    "# Please add code to this function to complete the assignment.\n",
    "# You can use the description and code cells below to check you answer.\n",
    "# Tip: With print('hello') you can print debugging info.\n",
    "\n",
    "def get_number_of_elements(tensor: torch.Tensor) -> int:\n",
    "    # Add/adjust code.\n",
    "    return tensor.numel()"
   ]
  },
  {
   "cell_type": "code",
   "execution_count": 54,
   "metadata": {
    "deletable": false,
    "editable": false
   },
   "outputs": [
    {
     "name": "stdout",
     "output_type": "stream",
     "text": [
      "<Test succeeded!>\n"
     ]
    }
   ],
   "source": [
    "# This cell performs a doctest of the function.\n",
    "newline = '\\n'\n",
    "your_answer = repr(get_number_of_elements(torch.zeros(1, 2, 3, 4))).strip()\n",
    "real_answer = str(\"24\")\n",
    "assert your_answer == real_answer, f'Wrong output, see details below. {newline}{newline}Your answer {newline}{newline}({your_answer}){newline}{newline}Desired answer {newline}{newline}({real_answer}){newline}{newline}'\n",
    "print('<Test succeeded!>')"
   ]
  },
  {
   "cell_type": "code",
   "execution_count": 55,
   "metadata": {
    "deletable": false,
    "editable": false
   },
   "outputs": [
    {
     "name": "stdout",
     "output_type": "stream",
     "text": [
      "<Test succeeded!>\n"
     ]
    }
   ],
   "source": [
    "# This cell performs a doctest of the function.\n",
    "newline = '\\n'\n",
    "your_answer = repr(get_number_of_elements(torch.zeros(1, 3, 3, 4))).strip()\n",
    "real_answer = str(\"36\")\n",
    "assert your_answer == real_answer, f'Wrong output, see details below. {newline}{newline}Your answer {newline}{newline}({your_answer}){newline}{newline}Desired answer {newline}{newline}({real_answer}){newline}{newline}'\n",
    "print('<Test succeeded!>')"
   ]
  },
  {
   "cell_type": "markdown",
   "metadata": {
    "deletable": false,
    "editable": false
   },
   "source": [
    "<h1 id=\"exercise-4\"><strong>Exercise 4</strong></h1>\n"
   ]
  },
  {
   "cell_type": "markdown",
   "metadata": {
    "deletable": false,
    "editable": false
   },
   "source": [
    "<font size=\"4px\"><p>Reshape a Tensor to a different shape while retaining the original\n",
    "number of elements.</p>\n",
    "<dl>\n",
    "<dt>param tensor</dt>\n",
    "<dd>\n",
    "the tensor to reshape.\n",
    "</dd>\n",
    "<dt>param new<span id=\"shape\">shape</span></dt>\n",
    "<dd>\n",
    "the new shape of the tensor.\n",
    "</dd>\n",
    "<dt>return</dt>\n",
    "<dd>\n",
    "the reshaped tensor\n",
    "</dd>\n",
    "</dl>\n",
    "</font>"
   ]
  },
  {
   "cell_type": "code",
   "execution_count": 56,
   "metadata": {
    "deletable": false,
    "editable": true
   },
   "outputs": [],
   "source": [
    "# Please add code to this function to complete the assignment.\n",
    "# You can use the description and code cells below to check you answer.\n",
    "# Tip: With print('hello') you can print debugging info.\n",
    "\n",
    "def reshape(tensor: torch.Tensor, new_shape: torch.Size) -> torch.Tensor:\n",
    "    # Add/adjust code.\n",
    "    return tensor.reshape(new_shape)"
   ]
  },
  {
   "cell_type": "code",
   "execution_count": 57,
   "metadata": {
    "deletable": false,
    "editable": false
   },
   "outputs": [
    {
     "name": "stdout",
     "output_type": "stream",
     "text": [
      "<Test succeeded!>\n"
     ]
    }
   ],
   "source": [
    "# This cell performs a doctest of the function.\n",
    "newline = '\\n'\n",
    "your_answer = repr(reshape(torch.tensor([1, 2, 3, 4]), torch.Size([2, 2]))).strip()\n",
    "real_answer = str(\"tensor([[1, 2],\\n        [3, 4]])\")\n",
    "assert your_answer == real_answer, f'Wrong output, see details below. {newline}{newline}Your answer {newline}{newline}({your_answer}){newline}{newline}Desired answer {newline}{newline}({real_answer}){newline}{newline}'\n",
    "print('<Test succeeded!>')"
   ]
  },
  {
   "cell_type": "code",
   "execution_count": 58,
   "metadata": {
    "deletable": false,
    "editable": false
   },
   "outputs": [
    {
     "name": "stdout",
     "output_type": "stream",
     "text": [
      "<Test succeeded!>\n"
     ]
    }
   ],
   "source": [
    "# This cell performs a doctest of the function.\n",
    "newline = '\\n'\n",
    "your_answer = repr(reshape(torch.tensor([1, 2, 3, 4, 5, 6, 7, 8]), torch.Size([2, 4]))).strip()\n",
    "real_answer = str(\"tensor([[1, 2, 3, 4],\\n        [5, 6, 7, 8]])\")\n",
    "assert your_answer == real_answer, f'Wrong output, see details below. {newline}{newline}Your answer {newline}{newline}({your_answer}){newline}{newline}Desired answer {newline}{newline}({real_answer}){newline}{newline}'\n",
    "print('<Test succeeded!>')"
   ]
  },
  {
   "cell_type": "code",
   "execution_count": 59,
   "metadata": {
    "deletable": false,
    "editable": false
   },
   "outputs": [
    {
     "name": "stdout",
     "output_type": "stream",
     "text": [
      "<Test succeeded!>\n"
     ]
    }
   ],
   "source": [
    "# This cell performs a doctest of the function.\n",
    "newline = '\\n'\n",
    "your_answer = repr(reshape(torch.tensor([1, 2, 3, 4, 5, 6, 7, 8]), torch.Size([2, 2, 2]))).strip()\n",
    "real_answer = str(\"tensor([[[1, 2],\\n         [3, 4]],\\n\\n        [[5, 6],\\n         [7, 8]]])\")\n",
    "assert your_answer == real_answer, f'Wrong output, see details below. {newline}{newline}Your answer {newline}{newline}({your_answer}){newline}{newline}Desired answer {newline}{newline}({real_answer}){newline}{newline}'\n",
    "print('<Test succeeded!>')"
   ]
  },
  {
   "cell_type": "markdown",
   "metadata": {
    "deletable": false,
    "editable": false
   },
   "source": [
    "<h1 id=\"exercise-5\"><strong>Exercise 5</strong></h1>\n"
   ]
  },
  {
   "cell_type": "markdown",
   "metadata": {
    "deletable": false,
    "editable": false
   },
   "source": [
    "<font size=\"4px\"><p>Raises all numbers in base to the power of exp (per element).</p>\n",
    "<dl>\n",
    "<dt>param base</dt>\n",
    "<dd>\n",
    "the base.\n",
    "</dd>\n",
    "<dt>param exp</dt>\n",
    "<dd>\n",
    "the exponent.\n",
    "</dd>\n",
    "<dt>return</dt>\n",
    "<dd>\n",
    "base raised to the power exp\n",
    "</dd>\n",
    "</dl>\n",
    "</font>"
   ]
  },
  {
   "cell_type": "code",
   "execution_count": 60,
   "metadata": {
    "deletable": false,
    "editable": true
   },
   "outputs": [],
   "source": [
    "# Please add code to this function to complete the assignment.\n",
    "# You can use the description and code cells below to check you answer.\n",
    "# Tip: With print('hello') you can print debugging info.\n",
    "\n",
    "def power(base: torch.Tensor, exp: torch.Tensor) -> torch.Tensor:\n",
    "    # Add/adjust code.\n",
    "    return torch.pow(base, exp)"
   ]
  },
  {
   "cell_type": "code",
   "execution_count": 61,
   "metadata": {
    "deletable": false,
    "editable": false
   },
   "outputs": [
    {
     "name": "stdout",
     "output_type": "stream",
     "text": [
      "<Test succeeded!>\n"
     ]
    }
   ],
   "source": [
    "# This cell performs a doctest of the function.\n",
    "newline = '\\n'\n",
    "your_answer = repr(power(torch.tensor([1, 2, 3]), torch.tensor([2, 2, 2]))).strip()\n",
    "real_answer = str(\"tensor([1, 4, 9])\")\n",
    "assert your_answer == real_answer, f'Wrong output, see details below. {newline}{newline}Your answer {newline}{newline}({your_answer}){newline}{newline}Desired answer {newline}{newline}({real_answer}){newline}{newline}'\n",
    "print('<Test succeeded!>')"
   ]
  },
  {
   "cell_type": "code",
   "execution_count": 62,
   "metadata": {
    "deletable": false,
    "editable": false
   },
   "outputs": [
    {
     "name": "stdout",
     "output_type": "stream",
     "text": [
      "<Test succeeded!>\n"
     ]
    }
   ],
   "source": [
    "# This cell performs a doctest of the function.\n",
    "newline = '\\n'\n",
    "your_answer = repr(power(torch.tensor([14, 2, 3]), torch.tensor([0, 3, 1]))).strip()\n",
    "real_answer = str(\"tensor([1, 8, 3])\")\n",
    "assert your_answer == real_answer, f'Wrong output, see details below. {newline}{newline}Your answer {newline}{newline}({your_answer}){newline}{newline}Desired answer {newline}{newline}({real_answer}){newline}{newline}'\n",
    "print('<Test succeeded!>')"
   ]
  },
  {
   "cell_type": "markdown",
   "metadata": {
    "deletable": false,
    "editable": false
   },
   "source": [
    "<h1 id=\"exercise-6\"><strong>Exercise 6</strong></h1>\n"
   ]
  },
  {
   "cell_type": "markdown",
   "metadata": {
    "deletable": false,
    "editable": false
   },
   "source": [
    "<font size=\"4px\"><p>Concatenate all rows from tensor2 as new rows of tensor1</p>\n",
    "<dl>\n",
    "<dt>param tensor1</dt>\n",
    "<dd>\n",
    "the first tensor\n",
    "</dd>\n",
    "<dt>param tensor2</dt>\n",
    "<dd>\n",
    "the second tendsor\n",
    "</dd>\n",
    "<dt>return</dt>\n",
    "<dd>\n",
    "the concatenated tensors\n",
    "</dd>\n",
    "</dl>\n",
    "</font>"
   ]
  },
  {
   "cell_type": "code",
   "execution_count": 63,
   "metadata": {
    "deletable": false,
    "editable": true
   },
   "outputs": [],
   "source": [
    "# Please add code to this function to complete the assignment.\n",
    "# You can use the description and code cells below to check you answer.\n",
    "# Tip: With print('hello') you can print debugging info.\n",
    "\n",
    "def concat_row(tensor1: torch.Tensor, tensor2: torch.Tensor) -> torch.Tensor:\n",
    "    # Add/adjust code.\n",
    "    return torch.cat((tensor1, tensor2), dim=0)"
   ]
  },
  {
   "cell_type": "code",
   "execution_count": 64,
   "metadata": {
    "deletable": false,
    "editable": false
   },
   "outputs": [
    {
     "name": "stdout",
     "output_type": "stream",
     "text": [
      "<Test succeeded!>\n"
     ]
    }
   ],
   "source": [
    "# This cell performs a doctest of the function.\n",
    "newline = '\\n'\n",
    "your_answer = repr(concat_row(torch.tensor([[1, 2, 3]]), torch.tensor([[4, 5, 6]]))).strip()\n",
    "real_answer = str(\"tensor([[1, 2, 3],\\n        [4, 5, 6]])\")\n",
    "assert your_answer == real_answer, f'Wrong output, see details below. {newline}{newline}Your answer {newline}{newline}({your_answer}){newline}{newline}Desired answer {newline}{newline}({real_answer}){newline}{newline}'\n",
    "print('<Test succeeded!>')"
   ]
  },
  {
   "cell_type": "code",
   "execution_count": 65,
   "metadata": {
    "deletable": false,
    "editable": false
   },
   "outputs": [
    {
     "name": "stdout",
     "output_type": "stream",
     "text": [
      "<Test succeeded!>\n"
     ]
    }
   ],
   "source": [
    "# This cell performs a doctest of the function.\n",
    "newline = '\\n'\n",
    "your_answer = repr(concat_row(torch.tensor([[1, 2], [3, 4]]), torch.tensor([[4, 5]]))).strip()\n",
    "real_answer = str(\"tensor([[1, 2],\\n        [3, 4],\\n        [4, 5]])\")\n",
    "assert your_answer == real_answer, f'Wrong output, see details below. {newline}{newline}Your answer {newline}{newline}({your_answer}){newline}{newline}Desired answer {newline}{newline}({real_answer}){newline}{newline}'\n",
    "print('<Test succeeded!>')"
   ]
  },
  {
   "cell_type": "markdown",
   "metadata": {
    "deletable": false,
    "editable": false
   },
   "source": [
    "<h1 id=\"exercise-7\"><strong>Exercise 7</strong></h1>\n"
   ]
  },
  {
   "cell_type": "markdown",
   "metadata": {
    "deletable": false,
    "editable": false
   },
   "source": [
    "<font size=\"4px\"><p>Concatenate all columns from tensor2 as new columns of tensor1</p>\n",
    "<dl>\n",
    "<dt>param tensor1</dt>\n",
    "<dd>\n",
    "the first tensor\n",
    "</dd>\n",
    "<dt>param tensor2</dt>\n",
    "<dd>\n",
    "the second tendsor\n",
    "</dd>\n",
    "<dt>return</dt>\n",
    "<dd>\n",
    "the concatenated tensors\n",
    "</dd>\n",
    "</dl>\n",
    "</font>"
   ]
  },
  {
   "cell_type": "code",
   "execution_count": 66,
   "metadata": {
    "deletable": false,
    "editable": true
   },
   "outputs": [],
   "source": [
    "# Please add code to this function to complete the assignment.\n",
    "# You can use the description and code cells below to check you answer.\n",
    "# Tip: With print('hello') you can print debugging info.\n",
    "\n",
    "def concat_col(tensor1: torch.Tensor, tensor2: torch.Tensor) -> torch.Tensor:\n",
    "    # Add/adjust code.\n",
    "    return torch.cat((tensor1, tensor2), dim=1)"
   ]
  },
  {
   "cell_type": "code",
   "execution_count": 67,
   "metadata": {
    "deletable": false,
    "editable": false
   },
   "outputs": [
    {
     "name": "stdout",
     "output_type": "stream",
     "text": [
      "<Test succeeded!>\n"
     ]
    }
   ],
   "source": [
    "# This cell performs a doctest of the function.\n",
    "newline = '\\n'\n",
    "your_answer = repr(concat_col(torch.tensor([[1, 2, 3]]), torch.tensor([[4, 5, 6]]))).strip()\n",
    "real_answer = str(\"tensor([[1, 2, 3, 4, 5, 6]])\")\n",
    "assert your_answer == real_answer, f'Wrong output, see details below. {newline}{newline}Your answer {newline}{newline}({your_answer}){newline}{newline}Desired answer {newline}{newline}({real_answer}){newline}{newline}'\n",
    "print('<Test succeeded!>')"
   ]
  },
  {
   "cell_type": "code",
   "execution_count": 68,
   "metadata": {
    "deletable": false,
    "editable": false
   },
   "outputs": [
    {
     "name": "stdout",
     "output_type": "stream",
     "text": [
      "<Test succeeded!>\n"
     ]
    }
   ],
   "source": [
    "# This cell performs a doctest of the function.\n",
    "newline = '\\n'\n",
    "your_answer = repr(concat_col(torch.tensor([[1, 2], [5, 6]]), torch.tensor([[3, 4], [7, 8]]))).strip()\n",
    "real_answer = str(\"tensor([[1, 2, 3, 4],\\n        [5, 6, 7, 8]])\")\n",
    "assert your_answer == real_answer, f'Wrong output, see details below. {newline}{newline}Your answer {newline}{newline}({your_answer}){newline}{newline}Desired answer {newline}{newline}({real_answer}){newline}{newline}'\n",
    "print('<Test succeeded!>')"
   ]
  },
  {
   "cell_type": "markdown",
   "metadata": {
    "deletable": false,
    "editable": false
   },
   "source": [
    "<h1 id=\"exercise-8\"><strong>Exercise 8</strong></h1>\n"
   ]
  },
  {
   "cell_type": "markdown",
   "metadata": {
    "deletable": false,
    "editable": false
   },
   "source": [
    "<font size=\"4px\"><p>Calculate how many elements of tensor1 and tensor2 are equal (note:\n",
    "the shapes of the Tensors should be equal)</p>\n",
    "<dl>\n",
    "<dt>param tensor1</dt>\n",
    "<dd>\n",
    "the first tensor\n",
    "</dd>\n",
    "<dt>param tensor2</dt>\n",
    "<dd>\n",
    "the second tensor\n",
    "</dd>\n",
    "<dt>return</dt>\n",
    "<dd>\n",
    "the number of equal elements (note: this is of type integer, not a\n",
    "Tensor)\n",
    "</dd>\n",
    "</dl>\n",
    "</font>"
   ]
  },
  {
   "cell_type": "code",
   "execution_count": 69,
   "metadata": {
    "deletable": false,
    "editable": true
   },
   "outputs": [],
   "source": [
    "# Please add code to this function to complete the assignment.\n",
    "# You can use the description and code cells below to check you answer.\n",
    "# Tip: With print('hello') you can print debugging info.\n",
    "\n",
    "def element_equal(tensor1: torch.Tensor, tensor2: torch.Tensor) -> int:\n",
    "    # Add/adjust code.\n",
    "    return int((tensor1 == tensor2).sum().item())"
   ]
  },
  {
   "cell_type": "code",
   "execution_count": 70,
   "metadata": {
    "deletable": false,
    "editable": false
   },
   "outputs": [
    {
     "name": "stdout",
     "output_type": "stream",
     "text": [
      "<Test succeeded!>\n"
     ]
    }
   ],
   "source": [
    "# This cell performs a doctest of the function.\n",
    "newline = '\\n'\n",
    "your_answer = repr(element_equal(torch.tensor([1, 2, 3, 4, 5]), torch.tensor([1, 3, 3, 4, 5]))).strip()\n",
    "real_answer = str(\"4\")\n",
    "assert your_answer == real_answer, f'Wrong output, see details below. {newline}{newline}Your answer {newline}{newline}({your_answer}){newline}{newline}Desired answer {newline}{newline}({real_answer}){newline}{newline}'\n",
    "print('<Test succeeded!>')"
   ]
  },
  {
   "cell_type": "code",
   "execution_count": 71,
   "metadata": {
    "deletable": false,
    "editable": false
   },
   "outputs": [
    {
     "name": "stdout",
     "output_type": "stream",
     "text": [
      "<Test succeeded!>\n"
     ]
    }
   ],
   "source": [
    "# This cell performs a doctest of the function.\n",
    "newline = '\\n'\n",
    "your_answer = repr(element_equal(torch.tensor([[1, 2], [3, 4]]), torch.tensor([[1, 1], [3, 5]]))).strip()\n",
    "real_answer = str(\"2\")\n",
    "assert your_answer == real_answer, f'Wrong output, see details below. {newline}{newline}Your answer {newline}{newline}({your_answer}){newline}{newline}Desired answer {newline}{newline}({real_answer}){newline}{newline}'\n",
    "print('<Test succeeded!>')"
   ]
  },
  {
   "cell_type": "markdown",
   "metadata": {
    "deletable": false,
    "editable": false
   },
   "source": [
    "<h1 id=\"exercise-9\"><strong>Exercise 9</strong></h1>\n"
   ]
  },
  {
   "cell_type": "markdown",
   "metadata": {
    "deletable": false,
    "editable": false
   },
   "source": [
    "<font size=\"4px\"><p>This method return is True if the shapes of the tensors are\n",
    "broadcastable. Note: pay attention to broadcasting rules!</p>\n",
    "<dl>\n",
    "<dt>param tensor1</dt>\n",
    "<dd>\n",
    "a 2D tensor\n",
    "</dd>\n",
    "<dt>param tensor2</dt>\n",
    "<dd>\n",
    "a 2D tensor\n",
    "</dd>\n",
    "<dt>return</dt>\n",
    "<dd>\n",
    "True if broadcastable, false otherwise.\n",
    "</dd>\n",
    "</dl>\n",
    "</font>"
   ]
  },
  {
   "cell_type": "code",
   "execution_count": 117,
   "metadata": {
    "deletable": false,
    "editable": true
   },
   "outputs": [],
   "source": [
    "# Please add code to this function to complete the assignment.\n",
    "# You can use the description and code cells below to check you answer.\n",
    "# Tip: With print('hello') you can print debugging info.\n",
    "\n",
    "def can_broadcast(tensor1: torch.Tensor, tensor2: torch.Tensor) -> bool:\n",
    "# Add/adjust code.\n",
    "    shape1 = tensor1.shape\n",
    "    shape2 = tensor2.shape\n",
    "    \n",
    "    # Pad the shorter shape with 1s on the left to match the longer shape\n",
    "    max_dims = max(len(shape1), len(shape2))\n",
    "    shape1_padded = (1,) * (max_dims - len(shape1)) + shape1\n",
    "    shape2_padded = (1,) * (max_dims - len(shape2)) + shape2\n",
    "    \n",
    "    # Check broadcasting compatibility for each dimension (from right to left, but zip does that)\n",
    "    for dim1, dim2 in zip(shape1_padded, shape2_padded):\n",
    "        if dim1 != dim2 and dim1 != 1 and dim2 != 1:\n",
    "            return False\n",
    "    return True"
   ]
  },
  {
   "cell_type": "code",
   "execution_count": 118,
   "metadata": {
    "deletable": false,
    "editable": false
   },
   "outputs": [
    {
     "name": "stdout",
     "output_type": "stream",
     "text": [
      "<Test succeeded!>\n"
     ]
    }
   ],
   "source": [
    "# This cell performs a doctest of the function.\n",
    "x = torch.empty(5,7,3)\n",
    "y = torch.empty(5,7,3)\n",
    "newline = '\\n'\n",
    "your_answer = repr(can_broadcast(x, y)).strip()\n",
    "real_answer = str(\"True\")\n",
    "assert your_answer == real_answer, f'Wrong output, see details below. {newline}{newline}Your answer {newline}{newline}({your_answer}){newline}{newline}Desired answer {newline}{newline}({real_answer}){newline}{newline}'\n",
    "print('<Test succeeded!>')"
   ]
  },
  {
   "cell_type": "code",
   "execution_count": 119,
   "metadata": {
    "deletable": false,
    "editable": false
   },
   "outputs": [
    {
     "name": "stdout",
     "output_type": "stream",
     "text": [
      "<Test succeeded!>\n"
     ]
    }
   ],
   "source": [
    "# This cell performs a doctest of the function.\n",
    "x = torch.empty(5,3,4,1)\n",
    "y = torch.empty(  3,1,1)\n",
    "newline = '\\n'\n",
    "your_answer = repr(can_broadcast(x, y)).strip()\n",
    "real_answer = str(\"True\")\n",
    "assert your_answer == real_answer, f'Wrong output, see details below. {newline}{newline}Your answer {newline}{newline}({your_answer}){newline}{newline}Desired answer {newline}{newline}({real_answer}){newline}{newline}'\n",
    "print('<Test succeeded!>')"
   ]
  },
  {
   "cell_type": "code",
   "execution_count": 120,
   "metadata": {
    "deletable": false,
    "editable": false
   },
   "outputs": [
    {
     "name": "stdout",
     "output_type": "stream",
     "text": [
      "<Test succeeded!>\n"
     ]
    }
   ],
   "source": [
    "# This cell performs a doctest of the function.\n",
    "x = torch.empty(5,2,4,1)\n",
    "y = torch.empty(  3,1,1)\n",
    "newline = '\\n'\n",
    "your_answer = repr(can_broadcast(x, y)).strip()\n",
    "real_answer = str(\"False\")\n",
    "assert your_answer == real_answer, f'Wrong output, see details below. {newline}{newline}Your answer {newline}{newline}({your_answer}){newline}{newline}Desired answer {newline}{newline}({real_answer}){newline}{newline}'\n",
    "print('<Test succeeded!>')"
   ]
  },
  {
   "cell_type": "code",
   "execution_count": 121,
   "metadata": {
    "deletable": false,
    "editable": false
   },
   "outputs": [
    {
     "name": "stdout",
     "output_type": "stream",
     "text": [
      "<Test succeeded!>\n"
     ]
    }
   ],
   "source": [
    "# This cell performs a doctest of the function.\n",
    "x=torch.empty((0,))\n",
    "y=torch.empty(2,2)\n",
    "newline = '\\n'\n",
    "your_answer = repr(can_broadcast(x, y)).strip()\n",
    "real_answer = str(\"False\")\n",
    "assert your_answer == real_answer, f'Wrong output, see details below. {newline}{newline}Your answer {newline}{newline}({your_answer}){newline}{newline}Desired answer {newline}{newline}({real_answer}){newline}{newline}'\n",
    "print('<Test succeeded!>')"
   ]
  },
  {
   "cell_type": "markdown",
   "metadata": {
    "deletable": false,
    "editable": false
   },
   "source": [
    "<h1 id=\"exercise-10\"><strong>Exercise 10</strong></h1>\n"
   ]
  },
  {
   "cell_type": "markdown",
   "metadata": {
    "deletable": false,
    "editable": false
   },
   "source": [
    "<font size=\"4px\"><p>Using slicing return the last row of the tensor</p>\n",
    "<dl>\n",
    "<dt>param tensor</dt>\n",
    "<dd>\n",
    "the input tensor\n",
    "</dd>\n",
    "<dt>return</dt>\n",
    "<dd>\n",
    "the last row of the tensor\n",
    "</dd>\n",
    "</dl>\n",
    "</font>"
   ]
  },
  {
   "cell_type": "code",
   "execution_count": 97,
   "metadata": {
    "deletable": false,
    "editable": true
   },
   "outputs": [],
   "source": [
    "# Please add code to this function to complete the assignment.\n",
    "# You can use the description and code cells below to check you answer.\n",
    "# Tip: With print('hello') you can print debugging info.\n",
    "\n",
    "def return_last_row(tensor: torch.Tensor) -> torch.Tensor:\n",
    "    # Add/adjust code.\n",
    "    print(tensor)\n",
    "    return tensor[-1:]"
   ]
  },
  {
   "cell_type": "code",
   "execution_count": 98,
   "metadata": {
    "deletable": false,
    "editable": false
   },
   "outputs": [
    {
     "name": "stdout",
     "output_type": "stream",
     "text": [
      "tensor([[1, 2],\n",
      "        [3, 4],\n",
      "        [5, 6]])\n",
      "<Test succeeded!>\n"
     ]
    }
   ],
   "source": [
    "# This cell performs a doctest of the function.\n",
    "newline = '\\n'\n",
    "your_answer = repr(return_last_row(torch.tensor([[1, 2], [3, 4], [5, 6]]))).strip()\n",
    "real_answer = str(\"tensor([[5, 6]])\")\n",
    "assert your_answer == real_answer, f'Wrong output, see details below. {newline}{newline}Your answer {newline}{newline}({your_answer}){newline}{newline}Desired answer {newline}{newline}({real_answer}){newline}{newline}'\n",
    "print('<Test succeeded!>')"
   ]
  },
  {
   "cell_type": "code",
   "execution_count": 99,
   "metadata": {
    "deletable": false,
    "editable": false
   },
   "outputs": [
    {
     "name": "stdout",
     "output_type": "stream",
     "text": [
      "tensor([[[1, 2],\n",
      "         [3, 4]],\n",
      "\n",
      "        [[5, 6],\n",
      "         [7, 8]]])\n",
      "<Test succeeded!>\n"
     ]
    }
   ],
   "source": [
    "# This cell performs a doctest of the function.\n",
    "newline = '\\n'\n",
    "your_answer = repr(return_last_row(torch.tensor([[[1, 2], [3, 4]], [[5, 6], [7, 8]]]))).strip()\n",
    "real_answer = str(\"tensor([[[5, 6],\\n         [7, 8]]])\")\n",
    "assert your_answer == real_answer, f'Wrong output, see details below. {newline}{newline}Your answer {newline}{newline}({your_answer}){newline}{newline}Desired answer {newline}{newline}({real_answer}){newline}{newline}'\n",
    "print('<Test succeeded!>')"
   ]
  },
  {
   "cell_type": "markdown",
   "metadata": {
    "deletable": false,
    "editable": false
   },
   "source": [
    "<h1 id=\"exercise-11\"><strong>Exercise 11</strong></h1>\n"
   ]
  },
  {
   "cell_type": "markdown",
   "metadata": {
    "deletable": false,
    "editable": false
   },
   "source": [
    "<font size=\"4px\"><p>Using slicing return first n rows of the tensor</p>\n",
    "<dl>\n",
    "<dt>param tensor</dt>\n",
    "<dd>\n",
    "the input tensor\n",
    "</dd>\n",
    "<dt>return</dt>\n",
    "<dd>\n",
    "the first n rows\n",
    "</dd>\n",
    "</dl>\n",
    "</font>"
   ]
  },
  {
   "cell_type": "code",
   "execution_count": 114,
   "metadata": {
    "deletable": false,
    "editable": true
   },
   "outputs": [],
   "source": [
    "# Please add code to this function to complete the assignment.\n",
    "# You can use the description and code cells below to check you answer.\n",
    "# Tip: With print('hello') you can print debugging info.\n",
    "\n",
    "def return_first_n_rows(tensor: torch.Tensor, n: int) -> torch.Tensor:\n",
    "    # Add/adjust code.\n",
    "    print (tensor)\n",
    "    print(n)\n",
    "    return tensor[:n]"
   ]
  },
  {
   "cell_type": "code",
   "execution_count": 115,
   "metadata": {
    "deletable": false,
    "editable": false
   },
   "outputs": [
    {
     "name": "stdout",
     "output_type": "stream",
     "text": [
      "tensor([[1, 2],\n",
      "        [3, 4],\n",
      "        [5, 6]])\n",
      "2\n",
      "<Test succeeded!>\n"
     ]
    }
   ],
   "source": [
    "# This cell performs a doctest of the function.\n",
    "newline = '\\n'\n",
    "your_answer = repr(return_first_n_rows(torch.tensor([[1, 2], [3, 4], [5, 6]]), n=2)).strip()\n",
    "real_answer = str(\"tensor([[1, 2],\\n        [3, 4]])\")\n",
    "assert your_answer == real_answer, f'Wrong output, see details below. {newline}{newline}Your answer {newline}{newline}({your_answer}){newline}{newline}Desired answer {newline}{newline}({real_answer}){newline}{newline}'\n",
    "print('<Test succeeded!>')"
   ]
  },
  {
   "cell_type": "code",
   "execution_count": 116,
   "metadata": {
    "deletable": false,
    "editable": false
   },
   "outputs": [
    {
     "name": "stdout",
     "output_type": "stream",
     "text": [
      "tensor([[[1, 2],\n",
      "         [3, 4]],\n",
      "\n",
      "        [[5, 6],\n",
      "         [7, 8]]])\n",
      "1\n",
      "<Test succeeded!>\n"
     ]
    }
   ],
   "source": [
    "# This cell performs a doctest of the function.\n",
    "newline = '\\n'\n",
    "your_answer = repr(return_first_n_rows(torch.tensor([[[1, 2], [3, 4]], [[5, 6], [7, 8]]]), n=1)).strip()\n",
    "real_answer = str(\"tensor([[[1, 2],\\n         [3, 4]]])\")\n",
    "assert your_answer == real_answer, f'Wrong output, see details below. {newline}{newline}Your answer {newline}{newline}({your_answer}){newline}{newline}Desired answer {newline}{newline}({real_answer}){newline}{newline}'\n",
    "print('<Test succeeded!>')"
   ]
  },
  {
   "cell_type": "code",
   "execution_count": null,
   "metadata": {},
   "outputs": [],
   "source": []
  },
  {
   "cell_type": "code",
   "execution_count": null,
   "metadata": {},
   "outputs": [],
   "source": []
  }
 ],
 "metadata": {
  "celltoolbar": "Create Assignment",
  "kernelspec": {
   "display_name": "Python 3 (ipykernel)",
   "language": "python",
   "name": "python3"
  },
  "language_info": {
   "codemirror_mode": {
    "name": "ipython",
    "version": 3
   },
   "file_extension": ".py",
   "mimetype": "text/x-python",
   "name": "python",
   "nbconvert_exporter": "python",
   "pygments_lexer": "ipython3",
   "version": "3.12.11"
  }
 },
 "nbformat": 4,
 "nbformat_minor": 4
}
