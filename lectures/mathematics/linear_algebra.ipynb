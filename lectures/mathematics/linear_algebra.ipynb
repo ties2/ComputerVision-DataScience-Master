{
 "cells": [
  {
   "cell_type": "code",
   "execution_count": 2,
   "metadata": {
    "deletable": false,
    "editable": true
   },
   "outputs": [],
   "source": [
    "import numpy as np\n",
    "from typing import Type, List, Any\n",
    "from PIL import Image\n",
    "import statistics\n",
    "import requests\n",
    "import io as b_io\n",
    "import cv2\n",
    "import unittest\n",
    "import PIL\n",
    "import sys\n",
    "import os\n",
    "import abc\n",
    "from abc import ABC\n",
    "import pandas\n",
    "import pandas as pd\n",
    "import shutil\n",
    "import glob\n",
    "import copy\n",
    "import pickle\n",
    "import albumentations\n",
    "import seaborn as sns\n",
    "import matplotlib.pyplot as plt\n",
    "from albumentations import augmentations\n",
    "from enum import Enum\n",
    "from skimage import data\n",
    "from typing import Iterable, Union, Set, Any, Optional, Any, Callable, Sized\n",
    "from torch.utils.tensorboard import SummaryWriter\n",
    "import torch\n",
    "import torch.utils\n",
    "import torch.utils.data\n",
    "import torch.nn as nn\n",
    "import torch.optim as optim\n",
    "import torchvision\n",
    "import torchvision.transforms as transforms\n",
    "NoneType = type(None)\n",
    "import common\n",
    "from common import get_logger, deprecated, DevNull\n",
    "from common.data.datasets_info import ABCDatasetInfo\n",
    "from common.data.generic_dataset import GenericDataset, get_generic_dataset, get_generic_dataloader\n",
    "from common.elements.model.basic import dynamic_load_weights_pt\n",
    "from common.elements.visualize import hyperspectral_to_rgb\n",
    "logger = get_logger('notebook_logs')\n",
    "\n",
    "import numpy as np"
   ]
  },
  {
   "cell_type": "markdown",
   "metadata": {
    "deletable": false,
    "editable": false
   },
   "source": [
    "<h1 id=\"exercise-1\"><strong>Exercise 1</strong></h1>\n"
   ]
  },
  {
   "cell_type": "markdown",
   "metadata": {
    "deletable": false,
    "editable": false
   },
   "source": [
    "<font size=\"4px\"><p>This method calculates the transpose of a matrix.</p>\n",
    "<dl>\n",
    "<dt>param arr</dt>\n",
    "<dd>\n",
    "input matrix\n",
    "</dd>\n",
    "<dt>return</dt>\n",
    "<dd>\n",
    "transposed input matrix\n",
    "</dd>\n",
    "<dt>example</dt>\n",
    "<dd>\n",
    "Apply a transpose on the input array.\n",
    "</dd>\n",
    "</dl>\n",
    "</font>"
   ]
  },
  {
   "cell_type": "code",
   "execution_count": 14,
   "metadata": {
    "deletable": false,
    "editable": true
   },
   "outputs": [],
   "source": [
    "# Please add code to this function to complete the assignment.\n",
    "# You can use the description and code cells below to check you answer.\n",
    "# Tip: With print('hello') you can print debugging info.\n",
    "\n",
    "def transpose(arr: np.ndarray) -> np.ndarray:\n",
    "    # Add/adjust code.\n",
    "    #use np.transpose(arr) or arr.T\n",
    "    print(arr)\n",
    "    answer = np.transpose(arr)\n",
    "    print(answer)\n",
    "    return answer"
   ]
  },
  {
   "cell_type": "code",
   "execution_count": 15,
   "metadata": {
    "deletable": false,
    "editable": false
   },
   "outputs": [
    {
     "name": "stdout",
     "output_type": "stream",
     "text": [
      "[[0 1]\n",
      " [2 3]]\n",
      "[[0 2]\n",
      " [1 3]]\n",
      "<Test succeeded!>\n"
     ]
    }
   ],
   "source": [
    "# This cell performs a doctest of the function.\n",
    "x = np.arange(4).reshape((2,2))\n",
    "newline = '\\n'\n",
    "your_answer = repr(transpose(x)).strip()\n",
    "real_answer = str(\"array([[0, 2],\\n       [1, 3]])\")\n",
    "assert your_answer == real_answer, f'Wrong output, see details below. {newline}{newline}Your answer {newline}{newline}({your_answer}){newline}{newline}Desired answer {newline}{newline}({real_answer}){newline}{newline}'\n",
    "print('<Test succeeded!>')"
   ]
  },
  {
   "cell_type": "markdown",
   "metadata": {
    "deletable": false,
    "editable": false
   },
   "source": [
    "<h1 id=\"exercise-2\"><strong>Exercise 2</strong></h1>\n"
   ]
  },
  {
   "cell_type": "markdown",
   "metadata": {
    "deletable": false,
    "editable": false
   },
   "source": [
    "<font size=\"4px\"><p>This method calculates the inverse of a matrix.</p>\n",
    "<dl>\n",
    "<dt>param arr</dt>\n",
    "<dd>\n",
    "input matrix\n",
    "</dd>\n",
    "<dt>return</dt>\n",
    "<dd>\n",
    "inverse of the input matrix\n",
    "</dd>\n",
    "<dt>example</dt>\n",
    "<dd>\n",
    "Apply an inverse on the input array.\n",
    "</dd>\n",
    "</dl>\n",
    "</font>"
   ]
  },
  {
   "cell_type": "code",
   "execution_count": 12,
   "metadata": {
    "deletable": false,
    "editable": true
   },
   "outputs": [],
   "source": [
    "# Please add code to this function to complete the assignment.\n",
    "# You can use the description and code cells below to check you answer.\n",
    "# Tip: With print('hello') you can print debugging info.\n",
    "\n",
    "def inverse(arr: np.ndarray) -> np.ndarray:\n",
    "    # Add/adjust code.\n",
    "    answer = np.linalg.inv(arr)\n",
    "    print (arr)\n",
    "    print (answer)\n",
    "    return answer"
   ]
  },
  {
   "cell_type": "code",
   "execution_count": 13,
   "metadata": {
    "deletable": false,
    "editable": false
   },
   "outputs": [
    {
     "name": "stdout",
     "output_type": "stream",
     "text": [
      "[[0 1]\n",
      " [2 3]]\n",
      "[[-1.5  0.5]\n",
      " [ 1.   0. ]]\n",
      "<Test succeeded!>\n"
     ]
    }
   ],
   "source": [
    "# This cell performs a doctest of the function.\n",
    "x = np.arange(4).reshape((2,2))\n",
    "newline = '\\n'\n",
    "your_answer = repr(inverse(x)).strip()\n",
    "real_answer = str(\"array([[-1.5,  0.5],\\n       [ 1. ,  0. ]])\")\n",
    "assert your_answer == real_answer, f'Wrong output, see details below. {newline}{newline}Your answer {newline}{newline}({your_answer}){newline}{newline}Desired answer {newline}{newline}({real_answer}){newline}{newline}'\n",
    "print('<Test succeeded!>')"
   ]
  },
  {
   "cell_type": "markdown",
   "metadata": {
    "deletable": false,
    "editable": false
   },
   "source": [
    "<h1 id=\"exercise-3\"><strong>Exercise 3</strong></h1>\n"
   ]
  },
  {
   "cell_type": "markdown",
   "metadata": {
    "deletable": false,
    "editable": false
   },
   "source": [
    "<font size=\"4px\"><p>This method calculates the product of two matrices.</p>\n",
    "<p>\\begin{equation*}y = \\mathbf{A} \\cdot \\mathbf{B}\\end{equation*}</p>\n",
    "<dl>\n",
    "<dt>param x1</dt>\n",
    "<dd>\n",
    "input matrix\n",
    "</dd>\n",
    "<dt>param x2</dt>\n",
    "<dd>\n",
    "input matrix\n",
    "</dd>\n",
    "<dt>return</dt>\n",
    "<dd>\n",
    "product of the input matrices\n",
    "</dd>\n",
    "<dt>example</dt>\n",
    "<dd>\n",
    "Apply a matrix multiplication on the input arrays.\n",
    "</dd>\n",
    "</dl>\n",
    "</font>"
   ]
  },
  {
   "cell_type": "code",
   "execution_count": 20,
   "metadata": {
    "deletable": false,
    "editable": true
   },
   "outputs": [],
   "source": [
    "# Please add code to this function to complete the assignment.\n",
    "# You can use the description and code cells below to check you answer.\n",
    "# Tip: With print('hello') you can print debugging info.\n",
    "\n",
    "def dot_product(x1: np.ndarray, x2: np.ndarray) -> np.ndarray:\n",
    "    # Add/adjust code.\n",
    "    print(x1)\n",
    "    print(x2)\n",
    "    answer = np.dot(x1, x2)\n",
    "    print(answer)\n",
    "    return answer"
   ]
  },
  {
   "cell_type": "code",
   "execution_count": 21,
   "metadata": {
    "deletable": false,
    "editable": false
   },
   "outputs": [
    {
     "name": "stdout",
     "output_type": "stream",
     "text": [
      "[[0 1]\n",
      " [2 3]]\n",
      "[[0 1]\n",
      " [2 3]]\n",
      "[[ 2  3]\n",
      " [ 6 11]]\n",
      "<Test succeeded!>\n"
     ]
    }
   ],
   "source": [
    "# This cell performs a doctest of the function.\n",
    "x1 = np.arange(4).reshape((2,2))\n",
    "x2 = np.arange(4).reshape((2,2))\n",
    "newline = '\\n'\n",
    "your_answer = repr(dot_product(x1, x2)).strip()\n",
    "real_answer = str(\"array([[ 2,  3],\\n       [ 6, 11]])\")\n",
    "assert your_answer == real_answer, f'Wrong output, see details below. {newline}{newline}Your answer {newline}{newline}({your_answer}){newline}{newline}Desired answer {newline}{newline}({real_answer}){newline}{newline}'\n",
    "print('<Test succeeded!>')"
   ]
  },
  {
   "cell_type": "markdown",
   "metadata": {
    "deletable": false,
    "editable": false
   },
   "source": [
    "<h1 id=\"exercise-4\"><strong>Exercise 4</strong></h1>\n"
   ]
  },
  {
   "cell_type": "markdown",
   "metadata": {
    "deletable": false,
    "editable": false
   },
   "source": [
    "<font size=\"4px\"><p>This method computes the linear combination of inputs and\n",
    "weights.</p>\n",
    "<dl>\n",
    "<dt>param x</dt>\n",
    "<dd>\n",
    "the input values\n",
    "</dd>\n",
    "<dt>param weights</dt>\n",
    "<dd>\n",
    "\n",
    "</dd>\n",
    "<dt>param bias</dt>\n",
    "<dd>\n",
    "\n",
    "</dd>\n",
    "<dt>return</dt>\n",
    "<dd>\n",
    "linear combination of inputs and weights\n",
    "</dd>\n",
    "<dt>example</dt>\n",
    "<dd>\n",
    "\n",
    "</dd>\n",
    "</dl>\n",
    "</font>"
   ]
  },
  {
   "cell_type": "code",
   "execution_count": 24,
   "metadata": {
    "deletable": false,
    "editable": true
   },
   "outputs": [],
   "source": [
    "# Please add code to this function to complete the assignment.\n",
    "# You can use the description and code cells below to check you answer.\n",
    "# Tip: With print('hello') you can print debugging info.\n",
    "\n",
    "def forward_propagation(x: np.ndarray, weights: np.ndarray, bias: float = -1):\n",
    "    # Add/adjust code.\n",
    "    answer = np.dot(x, weights) + bias\n",
    "    print (answer)\n",
    "    return answer"
   ]
  },
  {
   "cell_type": "code",
   "execution_count": 25,
   "metadata": {
    "deletable": false,
    "editable": false
   },
   "outputs": [
    {
     "name": "stdout",
     "output_type": "stream",
     "text": [
      "[-0.77 -0.58]\n",
      "<Test succeeded!>\n"
     ]
    }
   ],
   "source": [
    "# This cell performs a doctest of the function.\n",
    "x = np.array([[0.2, 0.5, 0.1], [0.1, 0.3, 0.4]])\n",
    "weights = np.array([-0.5, 0.5, 0.8])\n",
    "bias = -1\n",
    "newline = '\\n'\n",
    "your_answer = repr(np.round(forward_propagation(x, weights, bias), 3)).strip()\n",
    "real_answer = str(\"array([-0.77, -0.58])\")\n",
    "assert your_answer == real_answer, f'Wrong output, see details below. {newline}{newline}Your answer {newline}{newline}({your_answer}){newline}{newline}Desired answer {newline}{newline}({real_answer}){newline}{newline}'\n",
    "print('<Test succeeded!>')"
   ]
  },
  {
   "cell_type": "markdown",
   "metadata": {
    "deletable": false,
    "editable": false
   },
   "source": [
    "<h1 id=\"exercise-5\"><strong>Exercise 5</strong></h1>\n"
   ]
  },
  {
   "cell_type": "markdown",
   "metadata": {
    "deletable": false,
    "editable": false
   },
   "source": [
    "<font size=\"4px\"><p>This method computes the closed-form solution of linear regression\n",
    "when an input matrix and target vector is known.</p>\n",
    "<p>\\begin{equation*}\\hat{\\mathbf{w}} = \\left(\\mathbf{X}^{\\mathrm{T}}\n",
    "\\mathbf{X}\\right)^{-1} \\mathbf{X}^{\\mathrm{T}} \\mathbf{y}\n",
    "\\end{equation*}</p>\n",
    "<p>You may assume that the input data is linearly seperable.</p>\n",
    "<dl>\n",
    "<dt>param x</dt>\n",
    "<dd>\n",
    "an input matrix in which each row is a data point\n",
    "</dd>\n",
    "<dt>param target</dt>\n",
    "<dd>\n",
    "an input vector in which each value corresponds to a target output\n",
    "</dd>\n",
    "<dt>return</dt>\n",
    "<dd>\n",
    "an output vector holding the coefficient weights of the linear\n",
    "regression\n",
    "</dd>\n",
    "<dt>example</dt>\n",
    "<dd>\n",
    "\n",
    "</dd>\n",
    "</dl>\n",
    "</font>"
   ]
  },
  {
   "cell_type": "code",
   "execution_count": 26,
   "metadata": {
    "deletable": false,
    "editable": true
   },
   "outputs": [],
   "source": [
    "# Please add code to this function to complete the assignment.\n",
    "# You can use the description and code cells below to check you answer.\n",
    "# Tip: With print('hello') you can print debugging info.\n",
    "\n",
    "def compute_weights(x: np.ndarray, target: np.ndarray) -> np.ndarray:\n",
    "    # Add/adjust code.\n",
    "    \n",
    "    return np.linalg.inv(x.T @ x) @ x.T @ target"
   ]
  },
  {
   "cell_type": "code",
   "execution_count": 27,
   "metadata": {
    "deletable": false,
    "editable": false
   },
   "outputs": [
    {
     "name": "stdout",
     "output_type": "stream",
     "text": [
      "<Test succeeded!>\n"
     ]
    }
   ],
   "source": [
    "# This cell performs a doctest of the function.\n",
    "x = np.array([[1, 0, 1], [1, 1, 0], [1, 0, 0]])\n",
    "target = np.array([1, 1, 0])\n",
    "newline = '\\n'\n",
    "your_answer = repr(np.abs(np.round(compute_weights(x, target), 5))).strip()\n",
    "real_answer = str(\"array([0., 1., 1.])\")\n",
    "assert your_answer == real_answer, f'Wrong output, see details below. {newline}{newline}Your answer {newline}{newline}({your_answer}){newline}{newline}Desired answer {newline}{newline}({real_answer}){newline}{newline}'\n",
    "print('<Test succeeded!>')"
   ]
  },
  {
   "cell_type": "code",
   "execution_count": null,
   "metadata": {},
   "outputs": [],
   "source": []
  }
 ],
 "metadata": {
  "celltoolbar": "Create Assignment",
  "kernelspec": {
   "display_name": "Python 3 (ipykernel)",
   "language": "python",
   "name": "python3"
  },
  "language_info": {
   "codemirror_mode": {
    "name": "ipython",
    "version": 3
   },
   "file_extension": ".py",
   "mimetype": "text/x-python",
   "name": "python",
   "nbconvert_exporter": "python",
   "pygments_lexer": "ipython3",
   "version": "3.12.11"
  }
 },
 "nbformat": 4,
 "nbformat_minor": 4
}
