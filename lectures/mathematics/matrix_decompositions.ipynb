{
 "cells": [
  {
   "cell_type": "code",
   "execution_count": 2,
   "metadata": {
    "deletable": false,
    "editable": true
   },
   "outputs": [],
   "source": [
    "import numpy as np\n",
    "from typing import Type, List, Any\n",
    "from PIL import Image\n",
    "import statistics\n",
    "import requests\n",
    "import io as b_io\n",
    "import cv2\n",
    "import unittest\n",
    "import PIL\n",
    "import sys\n",
    "import os\n",
    "import abc\n",
    "from abc import ABC\n",
    "import pandas\n",
    "import pandas as pd\n",
    "import shutil\n",
    "import glob\n",
    "import copy\n",
    "import pickle\n",
    "import albumentations\n",
    "import seaborn as sns\n",
    "import matplotlib.pyplot as plt\n",
    "from albumentations import augmentations\n",
    "from enum import Enum\n",
    "from skimage import data\n",
    "from typing import Iterable, Union, Set, Any, Optional, Any, Callable, Sized\n",
    "from torch.utils.tensorboard import SummaryWriter\n",
    "import torch\n",
    "import torch.utils\n",
    "import torch.utils.data\n",
    "import torch.nn as nn\n",
    "import torch.optim as optim\n",
    "import torchvision\n",
    "import torchvision.transforms as transforms\n",
    "NoneType = type(None)\n",
    "import common\n",
    "from common import get_logger, deprecated, DevNull\n",
    "from common.data.datasets_info import ABCDatasetInfo\n",
    "from common.data.generic_dataset import GenericDataset, get_generic_dataset, get_generic_dataloader\n",
    "from common.elements.model.basic import dynamic_load_weights_pt\n",
    "from common.elements.visualize import hyperspectral_to_rgb\n",
    "logger = get_logger('notebook_logs')\n",
    "\n",
    "import numpy as np"
   ]
  },
  {
   "cell_type": "markdown",
   "metadata": {
    "deletable": false,
    "editable": false
   },
   "source": [
    "<h1 id=\"exercise-1\"><strong>Exercise 1</strong></h1>\n"
   ]
  },
  {
   "cell_type": "markdown",
   "metadata": {
    "deletable": false,
    "editable": false
   },
   "source": [
    "<font size=\"4px\"><p>This method calculates the determinant of a matrix.</p>\n",
    "<dl>\n",
    "<dt>param x</dt>\n",
    "<dd>\n",
    "input matrix\n",
    "</dd>\n",
    "<dt>return</dt>\n",
    "<dd>\n",
    "determinant of the input matrix\n",
    "</dd>\n",
    "<dt>example</dt>\n",
    "<dd>\n",
    "Calculate the determinant of the input array.\n",
    "</dd>\n",
    "</dl>\n",
    "</font>"
   ]
  },
  {
   "cell_type": "code",
   "execution_count": 7,
   "metadata": {
    "deletable": false,
    "editable": true
   },
   "outputs": [],
   "source": [
    "# Please add code to this function to complete the assignment.\n",
    "# You can use the description and code cells below to check you answer.\n",
    "# Tip: With print('hello') you can print debugging info.\n",
    "\n",
    "def determinant(x: np.ndarray):\n",
    "    # Add/adjust code.\n",
    "    print(x)\n",
    "    answer = np.round(np.linalg.det(x),2)\n",
    "    print(answer)\n",
    "    return answer"
   ]
  },
  {
   "cell_type": "code",
   "execution_count": 8,
   "metadata": {
    "deletable": false,
    "editable": false
   },
   "outputs": [
    {
     "name": "stdout",
     "output_type": "stream",
     "text": [
      "[[1 2]\n",
      " [3 4]]\n",
      "-2.0\n",
      "<Test succeeded!>\n"
     ]
    }
   ],
   "source": [
    "# This cell performs a doctest of the function.\n",
    "x = np.array([[1, 2], [3, 4]])\n",
    "d = determinant(x)\n",
    "newline = '\\n'\n",
    "your_answer = repr(round(d, 2)).strip()\n",
    "real_answer = str(\"-2.0\")\n",
    "assert your_answer == real_answer, f'Wrong output, see details below. {newline}{newline}Your answer {newline}{newline}({your_answer}){newline}{newline}Desired answer {newline}{newline}({real_answer}){newline}{newline}'\n",
    "print('<Test succeeded!>')"
   ]
  },
  {
   "cell_type": "markdown",
   "metadata": {
    "deletable": false,
    "editable": false
   },
   "source": [
    "<h1 id=\"exercise-2\"><strong>Exercise 2</strong></h1>\n"
   ]
  },
  {
   "cell_type": "markdown",
   "metadata": {
    "deletable": false,
    "editable": false
   },
   "source": [
    "<font size=\"4px\"><p>These methods check if the input matrix is invertible.</p>\n",
    "<dl>\n",
    "<dt>param x</dt>\n",
    "<dd>\n",
    "input matrix\n",
    "</dd>\n",
    "<dt>return</dt>\n",
    "<dd>\n",
    "True if matrix is invertible, False otherwise.\n",
    "</dd>\n",
    "<dt>example</dt>\n",
    "<dd>\n",
    "\n",
    "</dd>\n",
    "</dl>\n",
    "</font>"
   ]
  },
  {
   "cell_type": "code",
   "execution_count": 23,
   "metadata": {
    "deletable": false,
    "editable": true
   },
   "outputs": [],
   "source": [
    "# Please add code to this function to complete the assignment.\n",
    "# You can use the description and code cells below to check you answer.\n",
    "# Tip: With print('hello') you can print debugging info.\n",
    "from numpy.linalg import inv\n",
    "\n",
    "def is_invertible(x: np.ndarray):\n",
    "    # Add/adjust code.\n",
    "    print(x)\n",
    "    t = inv(x)\n",
    "    print (t)\n",
    "    answer = np.allclose(x @ t, np.eye(2))\n",
    "    print (answer)\n",
    "    return answer"
   ]
  },
  {
   "cell_type": "code",
   "execution_count": 24,
   "metadata": {
    "deletable": false,
    "editable": false
   },
   "outputs": [
    {
     "name": "stdout",
     "output_type": "stream",
     "text": [
      "[[1 2]\n",
      " [3 4]]\n",
      "[[-2.   1. ]\n",
      " [ 1.5 -0.5]]\n",
      "True\n",
      "<Test succeeded!>\n"
     ]
    }
   ],
   "source": [
    "# This cell performs a doctest of the function.\n",
    "x = np.array([[1, 2], [3, 4]])\n",
    "newline = '\\n'\n",
    "your_answer = repr(is_invertible(x)).strip()\n",
    "real_answer = str(\"True\")\n",
    "assert your_answer == real_answer, f'Wrong output, see details below. {newline}{newline}Your answer {newline}{newline}({your_answer}){newline}{newline}Desired answer {newline}{newline}({real_answer}){newline}{newline}'\n",
    "print('<Test succeeded!>')"
   ]
  },
  {
   "cell_type": "code",
   "execution_count": null,
   "metadata": {
    "deletable": false,
    "editable": false
   },
   "outputs": [],
   "source": [
    "# This cell performs a doctest of the function.\n",
    "x = np.array([[0, 0], [0, 0]])\n",
    "newline = '\\n'\n",
    "your_answer = repr(is_invertible(x)).strip()\n",
    "real_answer = str(\"False\")\n",
    "assert your_answer == real_answer, f'Wrong output, see details below. {newline}{newline}Your answer {newline}{newline}({your_answer}){newline}{newline}Desired answer {newline}{newline}({real_answer}){newline}{newline}'\n",
    "print('<Test succeeded!>')"
   ]
  },
  {
   "cell_type": "code",
   "execution_count": null,
   "metadata": {
    "deletable": false,
    "editable": false
   },
   "outputs": [],
   "source": [
    "# This cell performs a doctest of the function.\n",
    "x = np.array([[0, -1], [0, 3]])\n",
    "newline = '\\n'\n",
    "your_answer = repr(is_invertible(x)).strip()\n",
    "real_answer = str(\"False\")\n",
    "assert your_answer == real_answer, f'Wrong output, see details below. {newline}{newline}Your answer {newline}{newline}({your_answer}){newline}{newline}Desired answer {newline}{newline}({real_answer}){newline}{newline}'\n",
    "print('<Test succeeded!>')"
   ]
  },
  {
   "cell_type": "markdown",
   "metadata": {
    "deletable": false,
    "editable": false
   },
   "source": [
    "<h1 id=\"exercise-3\"><strong>Exercise 3</strong></h1>\n"
   ]
  },
  {
   "cell_type": "markdown",
   "metadata": {
    "deletable": false,
    "editable": false
   },
   "source": [
    "<font size=\"4px\"><p>This method calculates the trace of a matrix.</p>\n",
    "<dl>\n",
    "<dt>param x</dt>\n",
    "<dd>\n",
    "input matrix\n",
    "</dd>\n",
    "<dt>return</dt>\n",
    "<dd>\n",
    "trace of the input matrix.\n",
    "</dd>\n",
    "<dt>example</dt>\n",
    "<dd>\n",
    "Calculate the trace of the input array.\n",
    "</dd>\n",
    "</dl>\n",
    "</font>"
   ]
  },
  {
   "cell_type": "code",
   "execution_count": 31,
   "metadata": {
    "deletable": false,
    "editable": true
   },
   "outputs": [],
   "source": [
    "# Please add code to this function to complete the assignment.\n",
    "# You can use the description and code cells below to check you answer.\n",
    "# Tip: With print('hello') you can print debugging info.\n",
    "\n",
    "def trace(x: np.ndarray):\n",
    "    # Add/adjust code.\n",
    "    answer = np.trace(x)\n",
    "    print(x)\n",
    "    print (answer)\n",
    "    return answer"
   ]
  },
  {
   "cell_type": "code",
   "execution_count": 32,
   "metadata": {
    "deletable": false,
    "editable": false
   },
   "outputs": [
    {
     "name": "stdout",
     "output_type": "stream",
     "text": [
      "[[1 2]\n",
      " [3 4]]\n",
      "5\n",
      "<Test succeeded!>\n"
     ]
    }
   ],
   "source": [
    "# This cell performs a doctest of the function.\n",
    "x = np.array([[1, 2], [3, 4]])\n",
    "newline = '\\n'\n",
    "your_answer = repr(trace(x)).strip()\n",
    "real_answer = str(\"5\")\n",
    "assert your_answer == real_answer, f'Wrong output, see details below. {newline}{newline}Your answer {newline}{newline}({your_answer}){newline}{newline}Desired answer {newline}{newline}({real_answer}){newline}{newline}'\n",
    "print('<Test succeeded!>')"
   ]
  },
  {
   "cell_type": "markdown",
   "metadata": {
    "deletable": false,
    "editable": false
   },
   "source": [
    "<h1 id=\"exercise-4\"><strong>Exercise 4</strong></h1>\n"
   ]
  },
  {
   "cell_type": "markdown",
   "metadata": {
    "deletable": false,
    "editable": false
   },
   "source": [
    "<font size=\"4px\"><p>This method calculates the eigenvalues of a matrix.</p>\n",
    "<dl>\n",
    "<dt>param x</dt>\n",
    "<dd>\n",
    "input matrix of size (MxM)\n",
    "</dd>\n",
    "<dt>return</dt>\n",
    "<dd>\n",
    "eigenvalues\n",
    "</dd>\n",
    "<dt>example</dt>\n",
    "<dd>\n",
    "\n",
    "</dd>\n",
    "</dl>\n",
    "</font>"
   ]
  },
  {
   "cell_type": "code",
   "execution_count": 41,
   "metadata": {
    "deletable": false,
    "editable": true
   },
   "outputs": [],
   "source": [
    "# Please add code to this function to complete the assignment.\n",
    "# You can use the description and code cells below to check you answer.\n",
    "# Tip: With print('hello') you can print debugging info.\n",
    "\n",
    "def eigenvalues(x: np.ndarray) -> np.ndarray:\n",
    "    # Add/adjust code.\n",
    "    print(x)\n",
    "    answer = np.linalg.eigvals(x)\n",
    "    print(answer)\n",
    "    return answer"
   ]
  },
  {
   "cell_type": "code",
   "execution_count": 42,
   "metadata": {
    "deletable": false,
    "editable": false
   },
   "outputs": [
    {
     "name": "stdout",
     "output_type": "stream",
     "text": [
      "[[4 1]\n",
      " [2 3]]\n",
      "[5. 2.]\n",
      "<Test succeeded!>\n"
     ]
    }
   ],
   "source": [
    "# This cell performs a doctest of the function.\n",
    "x = np.array([[4, 1], [2, 3]])\n",
    "newline = '\\n'\n",
    "your_answer = repr(eigenvalues(x)).strip()\n",
    "real_answer = str(\"array([5., 2.])\")\n",
    "assert your_answer == real_answer, f'Wrong output, see details below. {newline}{newline}Your answer {newline}{newline}({your_answer}){newline}{newline}Desired answer {newline}{newline}({real_answer}){newline}{newline}'\n",
    "print('<Test succeeded!>')"
   ]
  },
  {
   "cell_type": "markdown",
   "metadata": {
    "deletable": false,
    "editable": false
   },
   "source": [
    "<h1 id=\"exercise-5\"><strong>Exercise 5</strong></h1>\n"
   ]
  },
  {
   "cell_type": "markdown",
   "metadata": {
    "deletable": false,
    "editable": false
   },
   "source": [
    "<font size=\"4px\"><p>This method computes the eigenvectors of a matrix.</p>\n",
    "<dl>\n",
    "<dt>param x</dt>\n",
    "<dd>\n",
    "input matrix of size (MxM)\n",
    "</dd>\n",
    "<dt>return</dt>\n",
    "<dd>\n",
    "output matrix of size (MxM) representing the right eigenvectors of the\n",
    "square matrix\n",
    "</dd>\n",
    "<dt>example</dt>\n",
    "<dd>\n",
    "\n",
    "</dd>\n",
    "</dl>\n",
    "</font>"
   ]
  },
  {
   "cell_type": "code",
   "execution_count": 43,
   "metadata": {
    "deletable": false,
    "editable": true
   },
   "outputs": [],
   "source": [
    "# Please add code to this function to complete the assignment.\n",
    "# You can use the description and code cells below to check you answer.\n",
    "# Tip: With print('hello') you can print debugging info.\n",
    "\n",
    "def eigenvectors(x: np.ndarray):\n",
    "    # Add/adjust code.\n",
    "    eigenvalues, eigenvectors = np.linalg.eig(x)\n",
    "    return eigenvectors"
   ]
  },
  {
   "cell_type": "code",
   "execution_count": 44,
   "metadata": {
    "deletable": false,
    "editable": false
   },
   "outputs": [
    {
     "name": "stdout",
     "output_type": "stream",
     "text": [
      "<Test succeeded!>\n"
     ]
    }
   ],
   "source": [
    "# This cell performs a doctest of the function.\n",
    "x = np.array([[4, 1], [2, 3]])\n",
    "newline = '\\n'\n",
    "your_answer = repr(np.round(eigenvectors(x), 3)).strip()\n",
    "real_answer = str(\"array([[ 0.707, -0.447],\\n       [ 0.707,  0.894]])\")\n",
    "assert your_answer == real_answer, f'Wrong output, see details below. {newline}{newline}Your answer {newline}{newline}({your_answer}){newline}{newline}Desired answer {newline}{newline}({real_answer}){newline}{newline}'\n",
    "print('<Test succeeded!>')"
   ]
  },
  {
   "cell_type": "code",
   "execution_count": null,
   "metadata": {},
   "outputs": [],
   "source": []
  }
 ],
 "metadata": {
  "celltoolbar": "Create Assignment",
  "kernelspec": {
   "display_name": "Python 3 (ipykernel)",
   "language": "python",
   "name": "python3"
  },
  "language_info": {
   "codemirror_mode": {
    "name": "ipython",
    "version": 3
   },
   "file_extension": ".py",
   "mimetype": "text/x-python",
   "name": "python",
   "nbconvert_exporter": "python",
   "pygments_lexer": "ipython3",
   "version": "3.12.11"
  }
 },
 "nbformat": 4,
 "nbformat_minor": 4
}
