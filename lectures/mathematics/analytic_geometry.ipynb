{
 "cells": [
  {
   "cell_type": "code",
   "execution_count": 2,
   "metadata": {
    "deletable": false,
    "editable": true
   },
   "outputs": [],
   "source": [
    "import numpy as np\n",
    "from typing import Type, List, Any\n",
    "from PIL import Image\n",
    "import statistics\n",
    "import requests\n",
    "import io as b_io\n",
    "import cv2\n",
    "import unittest\n",
    "import PIL\n",
    "import sys\n",
    "import os\n",
    "import abc\n",
    "from abc import ABC\n",
    "import pandas\n",
    "import pandas as pd\n",
    "import shutil\n",
    "import glob\n",
    "import copy\n",
    "import pickle\n",
    "import albumentations\n",
    "import seaborn as sns\n",
    "import matplotlib.pyplot as plt\n",
    "from albumentations import augmentations\n",
    "from enum import Enum\n",
    "from skimage import data\n",
    "from typing import Iterable, Union, Set, Any, Optional, Any, Callable, Sized\n",
    "from torch.utils.tensorboard import SummaryWriter\n",
    "import torch\n",
    "import torch.utils\n",
    "import torch.utils.data\n",
    "import torch.nn as nn\n",
    "import torch.optim as optim\n",
    "import torchvision\n",
    "import torchvision.transforms as transforms\n",
    "NoneType = type(None)\n",
    "import common\n",
    "from common import get_logger, deprecated, DevNull\n",
    "from common.data.datasets_info import ABCDatasetInfo\n",
    "from common.data.generic_dataset import GenericDataset, get_generic_dataset, get_generic_dataloader\n",
    "from common.elements.model.basic import dynamic_load_weights_pt\n",
    "from common.elements.visualize import hyperspectral_to_rgb\n",
    "logger = get_logger('notebook_logs')\n",
    "\n",
    "import numpy as np"
   ]
  },
  {
   "cell_type": "markdown",
   "metadata": {
    "deletable": false,
    "editable": false
   },
   "source": [
    "<h1 id=\"exercise-1\"><strong>Exercise 1</strong></h1>\n"
   ]
  },
  {
   "cell_type": "markdown",
   "metadata": {
    "deletable": false,
    "editable": false
   },
   "source": [
    "<font size=\"4px\"><p>This method calculates the matrix or vector L2 norm.</p>\n",
    "<dl>\n",
    "<dt>param x</dt>\n",
    "<dd>\n",
    "input array\n",
    "</dd>\n",
    "<dt>return</dt>\n",
    "<dd>\n",
    "norm of the matrix or vector(s)\n",
    "</dd>\n",
    "<dt>example</dt>\n",
    "<dd>\n",
    "Calculate the norm of the input array.\n",
    "</dd>\n",
    "</dl>\n",
    "</font>"
   ]
  },
  {
   "cell_type": "code",
   "execution_count": 5,
   "metadata": {
    "deletable": false,
    "editable": true
   },
   "outputs": [],
   "source": [
    "# Please add code to this function to complete the assignment.\n",
    "# You can use the description and code cells below to check you answer.\n",
    "# Tip: With print('hello') you can print debugging info.\n",
    "\n",
    "def norm(x: np.ndarray):\n",
    "    # Add/adjust code.\n",
    "    answer = np.linalg.norm(x)\n",
    "    print (x)\n",
    "    print(n)\n",
    "    return np.linalg.norm(x)"
   ]
  },
  {
   "cell_type": "code",
   "execution_count": 6,
   "metadata": {
    "deletable": false,
    "editable": false
   },
   "outputs": [
    {
     "name": "stdout",
     "output_type": "stream",
     "text": [
      "[[0 1 2]\n",
      " [3 4 5]\n",
      " [6 7 8]]\n",
      "14.2828568570857\n",
      "<Test succeeded!>\n"
     ]
    }
   ],
   "source": [
    "# This cell performs a doctest of the function.\n",
    "x = np.arange(9).reshape((3, 3))\n",
    "n = norm(x)\n",
    "newline = '\\n'\n",
    "your_answer = repr(round(n, 2)).strip()\n",
    "real_answer = str(\"14.28\")\n",
    "assert your_answer == real_answer, f'Wrong output, see details below. {newline}{newline}Your answer {newline}{newline}({your_answer}){newline}{newline}Desired answer {newline}{newline}({real_answer}){newline}{newline}'\n",
    "print('<Test succeeded!>')"
   ]
  },
  {
   "cell_type": "markdown",
   "metadata": {
    "deletable": false,
    "editable": false
   },
   "source": [
    "<h1 id=\"exercise-2\"><strong>Exercise 2</strong></h1>\n"
   ]
  },
  {
   "cell_type": "markdown",
   "metadata": {
    "deletable": false,
    "editable": false
   },
   "source": [
    "<font size=\"4px\"><p>This method calculates the inner product.</p>\n",
    "<dl>\n",
    "<dt>param x1</dt>\n",
    "<dd>\n",
    "input array\n",
    "</dd>\n",
    "<dt>param x2</dt>\n",
    "<dd>\n",
    "input array\n",
    "</dd>\n",
    "<dt>return</dt>\n",
    "<dd>\n",
    "inner product of x1 and x2\n",
    "</dd>\n",
    "<dt>example</dt>\n",
    "<dd>\n",
    "Calculate the inner product of the input arrays.\n",
    "</dd>\n",
    "</dl>\n",
    "</font>"
   ]
  },
  {
   "cell_type": "code",
   "execution_count": 15,
   "metadata": {
    "deletable": false,
    "editable": true
   },
   "outputs": [],
   "source": [
    "# Please add code to this function to complete the assignment.\n",
    "# You can use the description and code cells below to check you answer.\n",
    "# Tip: With print('hello') you can print debugging info.\n",
    "\n",
    "def inner_product(x1: np.ndarray, x2: np.ndarray) -> np.ndarray:\n",
    "    # Add/adjust code.\n",
    "    answer = np.dot(x1, x2.T)\n",
    "    print (x1)\n",
    "    print (x2)\n",
    "    print('asnwer')\n",
    "    print (answer)\n",
    "    return np.dot(x1, x2.T)"
   ]
  },
  {
   "cell_type": "code",
   "execution_count": 16,
   "metadata": {
    "deletable": false,
    "editable": false
   },
   "outputs": [
    {
     "name": "stdout",
     "output_type": "stream",
     "text": [
      "[[0 1 2]\n",
      " [3 4 5]\n",
      " [6 7 8]]\n",
      "[[0 1 2]\n",
      " [3 4 5]]\n",
      "asnwer\n",
      "[[ 5 14]\n",
      " [14 50]\n",
      " [23 86]]\n",
      "<Test succeeded!>\n"
     ]
    }
   ],
   "source": [
    "# This cell performs a doctest of the function.\n",
    "x1 = np.arange(9).reshape((3, 3))\n",
    "x2 = np.arange(6).reshape((2, 3))\n",
    "newline = '\\n'\n",
    "your_answer = repr(inner_product(x1, x2)).strip()\n",
    "real_answer = str(\"array([[ 5, 14],\\n       [14, 50],\\n       [23, 86]])\")\n",
    "assert your_answer == real_answer, f'Wrong output, see details below. {newline}{newline}Your answer {newline}{newline}({your_answer}){newline}{newline}Desired answer {newline}{newline}({real_answer}){newline}{newline}'\n",
    "print('<Test succeeded!>')"
   ]
  },
  {
   "cell_type": "markdown",
   "metadata": {
    "deletable": false,
    "editable": false
   },
   "source": [
    "<h1 id=\"exercise-3\"><strong>Exercise 3</strong></h1>\n"
   ]
  },
  {
   "cell_type": "markdown",
   "metadata": {
    "deletable": false,
    "editable": false
   },
   "source": [
    "<font size=\"4px\"><p>This method checks if the input matrix is orthogonal.</p>\n",
    "<dl>\n",
    "<dt>param x</dt>\n",
    "<dd>\n",
    "input matrix\n",
    "</dd>\n",
    "<dt>return</dt>\n",
    "<dd>\n",
    "True or False\n",
    "</dd>\n",
    "<dt>example</dt>\n",
    "<dd>\n",
    "Check if the input array is orthogonal.\n",
    "</dd>\n",
    "</dl>\n",
    "</font>"
   ]
  },
  {
   "cell_type": "markdown",
   "metadata": {
    "deletable": false,
    "editable": false
   },
   "source": [
    "<font size=\"4px\">\n",
    "</font>"
   ]
  },
  {
   "cell_type": "code",
   "execution_count": 26,
   "metadata": {
    "deletable": false,
    "editable": true
   },
   "outputs": [],
   "source": [
    "# Please add code to this function to complete the assignment.\n",
    "# You can use the description and code cells below to check you answer.\n",
    "# Tip: With print('hello') you can print debugging info.\n",
    "\n",
    "def is_orthogonal(x: np.ndarray) -> bool:\n",
    "    # Add/adjust code.\n",
    "    n = x.shape[0]\n",
    "    print (n)\n",
    "    print(x1)\n",
    "    answer = np.allclose(x @ x.T, np.eye(n),atol=1e-10)\n",
    "    print (answer)\n",
    "    return answer"
   ]
  },
  {
   "cell_type": "code",
   "execution_count": 27,
   "metadata": {
    "deletable": false,
    "editable": false
   },
   "outputs": [
    {
     "name": "stdout",
     "output_type": "stream",
     "text": [
      "3\n",
      "[[1. 0. 0.]\n",
      " [0. 1. 0.]\n",
      " [0. 0. 1.]]\n",
      "True\n",
      "<Test succeeded!>\n"
     ]
    }
   ],
   "source": [
    "# This cell performs a doctest of the function.\n",
    "x1 = np.zeros((3, 3))\n",
    "np.fill_diagonal(x1, 1)\n",
    "newline = '\\n'\n",
    "your_answer = repr(is_orthogonal(x1)).strip()\n",
    "real_answer = str(\"True\")\n",
    "assert your_answer == real_answer, f'Wrong output, see details below. {newline}{newline}Your answer {newline}{newline}({your_answer}){newline}{newline}Desired answer {newline}{newline}({real_answer}){newline}{newline}'\n",
    "print('<Test succeeded!>')"
   ]
  },
  {
   "cell_type": "code",
   "execution_count": 28,
   "metadata": {
    "deletable": false,
    "editable": false
   },
   "outputs": [
    {
     "name": "stdout",
     "output_type": "stream",
     "text": [
      "3\n",
      "[[1. 0. 0.]\n",
      " [0. 1. 0.]\n",
      " [0. 0. 1.]]\n",
      "False\n",
      "<Test succeeded!>\n"
     ]
    }
   ],
   "source": [
    "# This cell performs a doctest of the function.\n",
    "x2 = np.arange(9).reshape((3, 3))\n",
    "newline = '\\n'\n",
    "your_answer = repr(is_orthogonal(x2)).strip()\n",
    "real_answer = str(\"False\")\n",
    "assert your_answer == real_answer, f'Wrong output, see details below. {newline}{newline}Your answer {newline}{newline}({your_answer}){newline}{newline}Desired answer {newline}{newline}({real_answer}){newline}{newline}'\n",
    "print('<Test succeeded!>')"
   ]
  },
  {
   "cell_type": "markdown",
   "metadata": {
    "deletable": false,
    "editable": false
   },
   "source": [
    "<h1 id=\"exercise-4\"><strong>Exercise 4</strong></h1>\n"
   ]
  },
  {
   "cell_type": "markdown",
   "metadata": {
    "deletable": false,
    "editable": false
   },
   "source": [
    "<font size=\"4px\"><p>This method projects one input vector onto another input vector.</p>\n",
    "<dl>\n",
    "<dt>param x</dt>\n",
    "<dd>\n",
    "input vector\n",
    "</dd>\n",
    "<dt>param y</dt>\n",
    "<dd>\n",
    "input vector\n",
    "</dd>\n",
    "<dt>return</dt>\n",
    "<dd>\n",
    "projection of vector x onto vector y\n",
    "</dd>\n",
    "<dt>example</dt>\n",
    "<dd>\n",
    "\n",
    "</dd>\n",
    "</dl>\n",
    "</font>"
   ]
  },
  {
   "cell_type": "code",
   "execution_count": 49,
   "metadata": {
    "deletable": false,
    "editable": true
   },
   "outputs": [],
   "source": [
    "# Please add code to this function to complete the assignment.\n",
    "# You can use the description and code cells below to check you answer.\n",
    "# Tip: With print('hello') you can print debugging info.\n",
    "\n",
    "def projection(x: np.ndarray, y: np.ndarray):\n",
    "    # Add/adjust code.\n",
    "    print(x)\n",
    "    print(y)\n",
    "    print('hello')\n",
    "    answer = np.round((np.dot(x, y) / np.dot(y, y)) * y, 3)\n",
    "    print(answer)\n",
    "    return answer"
   ]
  },
  {
   "cell_type": "code",
   "execution_count": 50,
   "metadata": {
    "deletable": false,
    "editable": false
   },
   "outputs": [
    {
     "name": "stdout",
     "output_type": "stream",
     "text": [
      "[1 2 3]\n",
      "[-1  2  3]\n",
      "hello\n",
      "[-0.857  1.714  2.571]\n",
      "<Test succeeded!>\n"
     ]
    }
   ],
   "source": [
    "# This cell performs a doctest of the function.\n",
    "x = np.array([1,2,3])\n",
    "y = np.array([-1,2,3])\n",
    "newline = '\\n'\n",
    "your_answer = repr(np.round(projection(x, y), 3)).strip()\n",
    "real_answer = str(\"array([-0.857,  1.714,  2.571])\")\n",
    "assert your_answer == real_answer, f'Wrong output, see details below. {newline}{newline}Your answer {newline}{newline}({your_answer}){newline}{newline}Desired answer {newline}{newline}({real_answer}){newline}{newline}'\n",
    "print('<Test succeeded!>')"
   ]
  },
  {
   "cell_type": "markdown",
   "metadata": {
    "deletable": false,
    "editable": false
   },
   "source": [
    "<h1 id=\"exercise-5\"><strong>Exercise 5</strong></h1>\n"
   ]
  },
  {
   "cell_type": "markdown",
   "metadata": {
    "deletable": false,
    "editable": false
   },
   "source": [
    "<font size=\"4px\"><p>This method calculates the cosine similarity between two vectors:</p>\n",
    "<p>\\begin{equation*} \\cos (\\mathbf{A}, \\mathbf{B})=\\frac{\\mathbf{A}\n",
    "\\cdot \\mathbf{B}}{|\\mathbf{A}||\\mathbf{B}|}=\\frac{\\sum_{i=1}^{n} A_{i}\n",
    "B_{i}}{\\sqrt{\\sum_{i=1}^{n} A_{i}^{2}} \\sqrt{\\sum_{i=1}^{n} B_{i}^{2}}}\n",
    "\\end{equation*}</p>\n",
    "<dl>\n",
    "<dt>param v</dt>\n",
    "<dd>\n",
    "a vector\n",
    "</dd>\n",
    "<dt>param w</dt>\n",
    "<dd>\n",
    "a vector\n",
    "</dd>\n",
    "<dt>return</dt>\n",
    "<dd>\n",
    "a single value denoting the cosine similarity between v and w (interval\n",
    "[-1, 1])\n",
    "</dd>\n",
    "<dt>example</dt>\n",
    "<dd>\n",
    "Calculate the inner product of the input vectors pointing in the same\n",
    "direction.\n",
    "</dd>\n",
    "</dl>\n",
    "</font>"
   ]
  },
  {
   "cell_type": "markdown",
   "metadata": {
    "deletable": false,
    "editable": false
   },
   "source": [
    "<font size=\"4px\"><dl>\n",
    "<dt>example</dt>\n",
    "<dd>\n",
    "Calculate the inner product of the input vectors pointing in different\n",
    "directions.\n",
    "</dd>\n",
    "</dl>\n",
    "</font>"
   ]
  },
  {
   "cell_type": "code",
   "execution_count": 54,
   "metadata": {
    "deletable": false,
    "editable": true
   },
   "outputs": [],
   "source": [
    "# Please add code to this function to complete the assignment.\n",
    "# You can use the description and code cells below to check you answer.\n",
    "# Tip: With print('hello') you can print debugging info.\n",
    "\n",
    "def cosine_similarity(v: np.ndarray, w: np.ndarray):\n",
    "    # Add/adjust code.\n",
    "    print(v)\n",
    "    print(w)\n",
    "    answer= np.around(np.dot(v, w) / (np.linalg.norm(v) * np.linalg.norm(w)),3)\n",
    "    print(answer)\n",
    "    return answer"
   ]
  },
  {
   "cell_type": "code",
   "execution_count": 55,
   "metadata": {
    "deletable": false,
    "editable": false
   },
   "outputs": [
    {
     "name": "stdout",
     "output_type": "stream",
     "text": [
      "[1 2 3]\n",
      "[1 2 3]\n",
      "1.0\n",
      "<Test succeeded!>\n"
     ]
    }
   ],
   "source": [
    "# This cell performs a doctest of the function.\n",
    "v = np.array([1,2,3])\n",
    "w = np.array([1,2,3])\n",
    "newline = '\\n'\n",
    "your_answer = repr(cosine_similarity(v, w)).strip()\n",
    "real_answer = str(\"1.0\")\n",
    "assert your_answer == real_answer, f'Wrong output, see details below. {newline}{newline}Your answer {newline}{newline}({your_answer}){newline}{newline}Desired answer {newline}{newline}({real_answer}){newline}{newline}'\n",
    "print('<Test succeeded!>')"
   ]
  },
  {
   "cell_type": "code",
   "execution_count": 56,
   "metadata": {
    "deletable": false,
    "editable": false
   },
   "outputs": [
    {
     "name": "stdout",
     "output_type": "stream",
     "text": [
      "[1 2 3]\n",
      "[ 1 -2  3]\n",
      "0.429\n",
      "<Test succeeded!>\n"
     ]
    }
   ],
   "source": [
    "# This cell performs a doctest of the function.\n",
    "v = np.array([1,2,3])\n",
    "w = np.array([1,-2,3])\n",
    "newline = '\\n'\n",
    "your_answer = repr(np.round(cosine_similarity(v, w), 3)).strip()\n",
    "real_answer = str(\"0.429\")\n",
    "assert your_answer == real_answer, f'Wrong output, see details below. {newline}{newline}Your answer {newline}{newline}({your_answer}){newline}{newline}Desired answer {newline}{newline}({real_answer}){newline}{newline}'\n",
    "print('<Test succeeded!>')"
   ]
  },
  {
   "cell_type": "code",
   "execution_count": null,
   "metadata": {},
   "outputs": [],
   "source": []
  }
 ],
 "metadata": {
  "celltoolbar": "Create Assignment",
  "kernelspec": {
   "display_name": "Python 3 (ipykernel)",
   "language": "python",
   "name": "python3"
  },
  "language_info": {
   "codemirror_mode": {
    "name": "ipython",
    "version": 3
   },
   "file_extension": ".py",
   "mimetype": "text/x-python",
   "name": "python",
   "nbconvert_exporter": "python",
   "pygments_lexer": "ipython3",
   "version": "3.12.11"
  }
 },
 "nbformat": 4,
 "nbformat_minor": 4
}
