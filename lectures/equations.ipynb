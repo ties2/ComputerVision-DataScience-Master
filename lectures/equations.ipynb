{
 "cells": [
  {
   "cell_type": "code",
   "execution_count": 1,
   "metadata": {
    "deletable": false,
    "editable": true
   },
   "outputs": [
    {
     "name": "stderr",
     "output_type": "stream",
     "text": [
      "/Library/Frameworks/Python.framework/Versions/3.12/lib/python3.12/site-packages/albumentations/check_version.py:147: UserWarning: Error fetching version info <urlopen error [SSL: CERTIFICATE_VERIFY_FAILED] certificate verify failed: unable to get local issuer certificate (_ssl.c:1000)>\n",
      "  data = fetch_version_info()\n"
     ]
    },
    {
     "ename": "ModuleNotFoundError",
     "evalue": "No module named 'skimage'",
     "output_type": "error",
     "traceback": [
      "\u001b[0;31m---------------------------------------------------------------------------\u001b[0m",
      "\u001b[0;31mModuleNotFoundError\u001b[0m                       Traceback (most recent call last)",
      "Cell \u001b[0;32mIn[1], line 25\u001b[0m\n\u001b[1;32m     23\u001b[0m \u001b[38;5;28;01mfrom\u001b[39;00m\u001b[38;5;250m \u001b[39m\u001b[38;5;21;01malbumentations\u001b[39;00m\u001b[38;5;250m \u001b[39m\u001b[38;5;28;01mimport\u001b[39;00m augmentations\n\u001b[1;32m     24\u001b[0m \u001b[38;5;28;01mfrom\u001b[39;00m\u001b[38;5;250m \u001b[39m\u001b[38;5;21;01menum\u001b[39;00m\u001b[38;5;250m \u001b[39m\u001b[38;5;28;01mimport\u001b[39;00m Enum\n\u001b[0;32m---> 25\u001b[0m \u001b[38;5;28;01mfrom\u001b[39;00m\u001b[38;5;250m \u001b[39m\u001b[38;5;21;01mskimage\u001b[39;00m\u001b[38;5;250m \u001b[39m\u001b[38;5;28;01mimport\u001b[39;00m data\n\u001b[1;32m     26\u001b[0m \u001b[38;5;28;01mfrom\u001b[39;00m\u001b[38;5;250m \u001b[39m\u001b[38;5;21;01mtyping\u001b[39;00m\u001b[38;5;250m \u001b[39m\u001b[38;5;28;01mimport\u001b[39;00m Iterable, Union, Set, Any, Optional, Any, Callable, Sized\n\u001b[1;32m     27\u001b[0m \u001b[38;5;28;01mfrom\u001b[39;00m\u001b[38;5;250m \u001b[39m\u001b[38;5;21;01mtorch\u001b[39;00m\u001b[38;5;21;01m.\u001b[39;00m\u001b[38;5;21;01mutils\u001b[39;00m\u001b[38;5;21;01m.\u001b[39;00m\u001b[38;5;21;01mtensorboard\u001b[39;00m\u001b[38;5;250m \u001b[39m\u001b[38;5;28;01mimport\u001b[39;00m SummaryWriter\n",
      "\u001b[0;31mModuleNotFoundError\u001b[0m: No module named 'skimage'"
     ]
    }
   ],
   "source": [
    "import numpy as np\n",
    "from typing import Type, List, Any\n",
    "from PIL import Image\n",
    "import statistics\n",
    "import requests\n",
    "import io as b_io\n",
    "import cv2\n",
    "import unittest\n",
    "import PIL\n",
    "import sys\n",
    "import os\n",
    "import abc\n",
    "from abc import ABC\n",
    "import pandas\n",
    "import pandas as pd\n",
    "import shutil\n",
    "import glob\n",
    "import copy\n",
    "import pickle\n",
    "import albumentations\n",
    "import seaborn as sns\n",
    "import matplotlib.pyplot as plt\n",
    "from albumentations import augmentations\n",
    "from enum import Enum\n",
    "from skimage import data\n",
    "from typing import Iterable, Union, Set, Any, Optional, Any, Callable, Sized\n",
    "from torch.utils.tensorboard import SummaryWriter\n",
    "import torch\n",
    "import torch.utils\n",
    "import torch.utils.data\n",
    "import torch.nn as nn\n",
    "import torch.optim as optim\n",
    "import torchvision\n",
    "import torchvision.transforms as transforms\n",
    "NoneType = type(None)\n",
    "import common\n",
    "from common import get_logger, deprecated, DevNull\n",
    "from common.data.datasets_info import ABCDatasetInfo\n",
    "from common.data.generic_dataset import GenericDataset, get_generic_dataset, get_generic_dataloader\n",
    "from common.elements.model.basic import dynamic_load_weights_pt\n",
    "from common.elements.visualize import hyperspectral_to_rgb\n",
    "logger = get_logger('notebook_logs')\n",
    "\n",
    "import math\n",
    "from sklearn.metrics import mean_squared_error, log_loss"
   ]
  },
  {
   "cell_type": "markdown",
   "metadata": {
    "deletable": false,
    "editable": false
   },
   "source": [
    "<h1 id=\"exercise-1\"><strong>Exercise 1</strong></h1>\n"
   ]
  },
  {
   "cell_type": "markdown",
   "metadata": {
    "deletable": false,
    "editable": false
   },
   "source": [
    "<font size=\"4px\"><p>Provide the Python implementation of the following equation:</p>\n",
    "<div class=\"line-block\"></div>\n",
    "<p>\\begin{equation*}\\sum_{i = 1}^{n}a_i\\end{equation*}</p>\n",
    "<dl>\n",
    "<dt>param a</dt>\n",
    "<dd>\n",
    "<p>input array</p>\n",
    "</dd>\n",
    "<dt>return</dt>\n",
    "<dd>\n",
    "<p>summation of the given input array</p>\n",
    "</dd>\n",
    "<dt>example</dt>\n",
    "<dd>\n",
    "\n",
    "</dd>\n",
    "</dl>\n",
    "</font>"
   ]
  },
  {
   "cell_type": "code",
   "execution_count": null,
   "metadata": {
    "deletable": false,
    "editable": true
   },
   "outputs": [],
   "source": [
    "# Please add code to this function to complete the assignment.\n",
    "# You can use the description and code cells below to check you answer.\n",
    "# Tip: With print('hello') you can print debugging info.\n",
    "\n",
    "def summation(a: Union[list, np.ndarray]) -> Union[float, np.ndarray]:\n",
    "    # Add/adjust code.\n",
    "    return np.sum(a)"
   ]
  },
  {
   "cell_type": "code",
   "execution_count": null,
   "metadata": {
    "deletable": false,
    "editable": false
   },
   "outputs": [],
   "source": [
    "# This cell performs a doctest of the function.\n",
    "a = [10, 12, 7, 8, 3]\n",
    "newline = '\\n'\n",
    "your_answer = repr(summation(a)).strip()\n",
    "real_answer = str(\"40\")\n",
    "assert your_answer == real_answer, f'Wrong output, see details below. {newline}{newline}Your answer {newline}{newline}({your_answer}){newline}{newline}Desired answer {newline}{newline}({real_answer}){newline}{newline}'\n",
    "print('<Test succeeded!>')"
   ]
  },
  {
   "cell_type": "markdown",
   "metadata": {
    "deletable": false,
    "editable": false
   },
   "source": [
    "<h1 id=\"exercise-2\"><strong>Exercise 2</strong></h1>\n"
   ]
  },
  {
   "cell_type": "markdown",
   "metadata": {
    "deletable": false,
    "editable": false
   },
   "source": [
    "<font size=\"4px\"><p>Calculate the sum over the given axis of x. Number of dimensions of\n",
    "the output should be the same as the input.</p>\n",
    "<dl>\n",
    "<dt>param x</dt>\n",
    "<dd>\n",
    "<p>a ndarray holding some values</p>\n",
    "</dd>\n",
    "<dt>param axis</dt>\n",
    "<dd>\n",
    "<p>the axis we take our sum over</p>\n",
    "</dd>\n",
    "<dt>return</dt>\n",
    "<dd>\n",
    "<p>the non-reduced sum (keeps the same number of dimensions)</p>\n",
    "</dd>\n",
    "<dt>example</dt>\n",
    "<dd>\n",
    "\n",
    "</dd>\n",
    "</dl>\n",
    "</font>"
   ]
  },
  {
   "cell_type": "code",
   "execution_count": null,
   "metadata": {
    "deletable": false,
    "editable": true
   },
   "outputs": [],
   "source": [
    "# Please add code to this function to complete the assignment.\n",
    "# You can use the description and code cells below to check you answer.\n",
    "# Tip: With print('hello') you can print debugging info.\n",
    "\n",
    "def keep_dims_sum(x, axis):\n",
    "    sum=np.sum(x, axis = axis).reshape (2,1)\n",
    "    return sum"
   ]
  },
  {
   "cell_type": "code",
   "execution_count": null,
   "metadata": {
    "deletable": false,
    "editable": false
   },
   "outputs": [],
   "source": [
    "# This cell performs a doctest of the function.\n",
    "x = np.array([[10, 12, 7, 8, 3], [3, 8, 7, 12, 10]])\n",
    "newline = '\\n'\n",
    "your_answer = repr(keep_dims_sum(x, axis=1)).strip()\n",
    "real_answer = str(\"array([[40],\\n       [40]])\")\n",
    "assert your_answer == real_answer, f'Wrong output, see details below. {newline}{newline}Your answer {newline}{newline}({your_answer}){newline}{newline}Desired answer {newline}{newline}({real_answer}){newline}{newline}'\n",
    "print('<Test succeeded!>')"
   ]
  },
  {
   "cell_type": "markdown",
   "metadata": {
    "deletable": false,
    "editable": false
   },
   "source": [
    "<h1 id=\"exercise-3\"><strong>Exercise 3</strong></h1>\n"
   ]
  },
  {
   "cell_type": "markdown",
   "metadata": {
    "deletable": false,
    "editable": false
   },
   "source": [
    "<font size=\"4px\"><p>Provide the Python implementation of the following equation:</p>\n",
    "<div class=\"line-block\"></div>\n",
    "<p>\\begin{equation*}\\prod_{i = 1}^{n}a_i\\end{equation*}</p>\n",
    "<dl>\n",
    "<dt>param a</dt>\n",
    "<dd>\n",
    "<p>input array</p>\n",
    "</dd>\n",
    "<dt>return</dt>\n",
    "<dd>\n",
    "<p>product of the given input array</p>\n",
    "</dd>\n",
    "<dt>example</dt>\n",
    "<dd>\n",
    "\n",
    "</dd>\n",
    "</dl>\n",
    "</font>"
   ]
  },
  {
   "cell_type": "code",
   "execution_count": null,
   "metadata": {
    "deletable": false,
    "editable": true
   },
   "outputs": [],
   "source": [
    "# Please add code to this function to complete the assignment.\n",
    "# You can use the description and code cells below to check you answer.\n",
    "# Tip: With print('hello') you can print debugging info.\n",
    "\n",
    "def multiplication(a: Union[list, np.ndarray]) -> Union[float, np.ndarray]:\n",
    "    total_product = np.prod(a)\n",
    "    return total_product"
   ]
  },
  {
   "cell_type": "code",
   "execution_count": null,
   "metadata": {
    "deletable": false,
    "editable": false
   },
   "outputs": [],
   "source": [
    "# This cell performs a doctest of the function.\n",
    "a = [10, 12, 7, 8, 3]\n",
    "newline = '\\n'\n",
    "your_answer = repr(multiplication(a)).strip()\n",
    "real_answer = str(\"20160\")\n",
    "assert your_answer == real_answer, f'Wrong output, see details below. {newline}{newline}Your answer {newline}{newline}({your_answer}){newline}{newline}Desired answer {newline}{newline}({real_answer}){newline}{newline}'\n",
    "print('<Test succeeded!>')"
   ]
  },
  {
   "cell_type": "markdown",
   "metadata": {
    "deletable": false,
    "editable": false
   },
   "source": [
    "<h1 id=\"exercise-4\"><strong>Exercise 4</strong></h1>\n"
   ]
  },
  {
   "cell_type": "markdown",
   "metadata": {
    "deletable": false,
    "editable": false
   },
   "source": [
    "<font size=\"4px\"><p>Provide the Python implementation of the following equation:</p>\n",
    "<div class=\"line-block\"></div>\n",
    "<p>\\begin{equation*}\\widehat{y} = \\frac\n",
    "{1}{n}\\sum_{i=1}^{n}y_{i}\\end{equation*}</p>\n",
    "<dl>\n",
    "<dt>param</dt>\n",
    "<dd>\n",
    "<p>x: Input vector</p>\n",
    "</dd>\n",
    "<dt>return</dt>\n",
    "<dd>\n",
    "<p>a single value denoting the expectation over x</p>\n",
    "</dd>\n",
    "<dt>example</dt>\n",
    "<dd>\n",
    "\n",
    "</dd>\n",
    "</dl>\n",
    "</font>"
   ]
  },
  {
   "cell_type": "code",
   "execution_count": null,
   "metadata": {
    "deletable": false,
    "editable": true
   },
   "outputs": [],
   "source": [
    "# Please add code to this function to complete the assignment.\n",
    "# You can use the description and code cells below to check you answer.\n",
    "# Tip: With print('hello') you can print debugging info.\n",
    "\n",
    "def expectation(x: np.ndarray):\n",
    "    myanswer = np. mean(x) \n",
    "    return myanswer"
   ]
  },
  {
   "cell_type": "code",
   "execution_count": null,
   "metadata": {
    "deletable": false,
    "editable": false
   },
   "outputs": [],
   "source": [
    "# This cell performs a doctest of the function.\n",
    "x = np.array([10, 10, 11, 11, 12, 12])\n",
    "newline = '\\n'\n",
    "your_answer = repr(expectation(x)).strip()\n",
    "real_answer = str(\"11.0\")\n",
    "assert your_answer == real_answer, f'Wrong output, see details below. {newline}{newline}Your answer {newline}{newline}({your_answer}){newline}{newline}Desired answer {newline}{newline}({real_answer}){newline}{newline}'\n",
    "print('<Test succeeded!>')"
   ]
  },
  {
   "cell_type": "markdown",
   "metadata": {
    "deletable": false,
    "editable": false
   },
   "source": [
    "<h1 id=\"exercise-5\"><strong>Exercise 5</strong></h1>\n"
   ]
  },
  {
   "cell_type": "markdown",
   "metadata": {
    "deletable": false,
    "editable": false
   },
   "source": [
    "<font size=\"4px\"><p>Provide the Python implementation of the following equation:</p>\n",
    "<div class=\"line-block\"></div>\n",
    "<p>\\begin{equation*} \\sigma^{2} = \\frac{\\sum_{i=1}^{N}\\left(x_{i} -\n",
    "\\mu\\right)^{2}}{N} \\end{equation*}</p>\n",
    "<dl>\n",
    "<dt>param</dt>\n",
    "<dd>\n",
    "<p>x: Input vector</p>\n",
    "</dd>\n",
    "<dt>return</dt>\n",
    "<dd>\n",
    "<p>a single value denoting the variance over x</p>\n",
    "</dd>\n",
    "<dt>example</dt>\n",
    "<dd>\n",
    "\n",
    "</dd>\n",
    "</dl>\n",
    "</font>"
   ]
  },
  {
   "cell_type": "code",
   "execution_count": null,
   "metadata": {},
   "outputs": [],
   "source": [
    "#round??\n",
    "\n"
   ]
  },
  {
   "cell_type": "code",
   "execution_count": null,
   "metadata": {
    "deletable": false,
    "editable": true
   },
   "outputs": [],
   "source": [
    "# Please add code to this function to complete the assignment.\n",
    "# You can use the description and code cells below to check you answer.\n",
    "# Tip: With print('hello') you can print debugging info.\n",
    "\n",
    "def variance(x: np.ndarray):\n",
    "    answer = round ( np.var(x), ndigits = 3)\n",
    "    return answer"
   ]
  },
  {
   "cell_type": "code",
   "execution_count": null,
   "metadata": {
    "deletable": false,
    "editable": false
   },
   "outputs": [],
   "source": [
    "# This cell performs a doctest of the function.\n",
    "x = np.array([10, 10, 11, 11, 12, 12])\n",
    "newline = '\\n'\n",
    "your_answer = repr(variance(x)).strip()\n",
    "real_answer = str(\"0.667\")\n",
    "assert your_answer == real_answer, f'Wrong output, see details below. {newline}{newline}Your answer {newline}{newline}({your_answer}){newline}{newline}Desired answer {newline}{newline}({real_answer}){newline}{newline}'\n",
    "print('<Test succeeded!>')"
   ]
  },
  {
   "cell_type": "markdown",
   "metadata": {
    "deletable": false,
    "editable": false
   },
   "source": [
    "<h1 id=\"exercise-6\"><strong>Exercise 6</strong></h1>\n"
   ]
  },
  {
   "cell_type": "markdown",
   "metadata": {
    "deletable": false,
    "editable": false
   },
   "source": [
    "<font size=\"4px\"><p>Provide the Python implementation of the following equation:</p>\n",
    "<div class=\"line-block\"></div>\n",
    "<p>\\begin{equation*}\\sigma = \\sqrt{\\frac{1}{N -\n",
    "1}\\sum_{i=1}^{N}(x_{i}-\\mu)^2}\\end{equation*}</p>\n",
    "<dl>\n",
    "<dt>param a</dt>\n",
    "<dd>\n",
    "<p>input array</p>\n",
    "</dd>\n",
    "<dt>return</dt>\n",
    "<dd>\n",
    "<p>sample standard deviation of the given input array</p>\n",
    "</dd>\n",
    "<dt>example</dt>\n",
    "<dd>\n",
    "\n",
    "</dd>\n",
    "</dl>\n",
    "</font>"
   ]
  },
  {
   "cell_type": "code",
   "execution_count": null,
   "metadata": {
    "deletable": false,
    "editable": true
   },
   "outputs": [],
   "source": [
    "#np.std??"
   ]
  },
  {
   "cell_type": "code",
   "execution_count": null,
   "metadata": {
    "editable": true
   },
   "outputs": [],
   "source": [
    "# Please add code to this function to complete the assignment.\n",
    "# You can use the description and code cells below to check you answer.\n",
    "# Tip: With print('hello') you can print debugging info.\n",
    "\n",
    "def sample_standard_deviation(a: Union[list, np.ndarray]) -> Union[float, np.ndarray]:\n",
    "    answer = np.std(a, ddof=1)\n",
    "    return answer"
   ]
  },
  {
   "cell_type": "code",
   "execution_count": null,
   "metadata": {
    "deletable": false,
    "editable": false
   },
   "outputs": [],
   "source": [
    "# This cell performs a doctest of the function.\n",
    "a = [4, 2, -9]\n",
    "newline = '\\n'\n",
    "your_answer = repr(sample_standard_deviation(a)).strip()\n",
    "real_answer = str(\"7.0\")\n",
    "assert your_answer == real_answer, f'Wrong output, see details below. {newline}{newline}Your answer {newline}{newline}({your_answer}){newline}{newline}Desired answer {newline}{newline}({real_answer}){newline}{newline}'\n",
    "print('<Test succeeded!>')"
   ]
  },
  {
   "cell_type": "markdown",
   "metadata": {
    "deletable": false,
    "editable": false
   },
   "source": [
    "<h1 id=\"exercise-7\"><strong>Exercise 7</strong></h1>\n"
   ]
  },
  {
   "cell_type": "markdown",
   "metadata": {
    "deletable": false,
    "editable": false
   },
   "source": [
    "<font size=\"4px\"><p>Provide the Python implementation of the following equation:</p>\n",
    "<div class=\"line-block\"></div>\n",
    "<p>\\begin{equation*} y_k=\\frac{1}{k} \\sum_{i=k}^{n - k + 1} x_{i}\n",
    "\\end{equation*}</p>\n",
    "<p>Note that k is the length of the output, x is the input signal and n\n",
    "is the window size.</p>\n",
    "<dl>\n",
    "<dt>param x</dt>\n",
    "<dd>\n",
    "<p>input vector</p>\n",
    "</dd>\n",
    "<dt>param k</dt>\n",
    "<dd>\n",
    "<p>defines the window over which an average should be taken</p>\n",
    "</dd>\n",
    "<dt>return</dt>\n",
    "<dd>\n",
    "<p>the vector holding the output of the moving average. Note that the\n",
    "output is of length input - window_size + 1</p>\n",
    "</dd>\n",
    "<dt>example</dt>\n",
    "<dd>\n",
    "\n",
    "</dd>\n",
    "</dl>\n",
    "</font>"
   ]
  },
  {
   "cell_type": "code",
   "execution_count": null,
   "metadata": {
    "deletable": false,
    "editable": true
   },
   "outputs": [],
   "source": [
    "# Please add code to this function to complete the assignment.\n",
    "# You can use the description and code cells below to check you answer.\n",
    "# Tip: With print('hello') you can print debugging info.\n",
    "\n",
    "def moving_average(x: np.ndarray, k: int):\n",
    "    #df = pd.dataframe \n",
    "    #df.rolling(k).mean().iloc[k:-:].values\n",
    "    return"
   ]
  },
  {
   "cell_type": "code",
   "execution_count": null,
   "metadata": {
    "deletable": false,
    "editable": false
   },
   "outputs": [],
   "source": [
    "# This cell performs a doctest of the function.\n",
    "x = np.array([3, 6, 9, 12, 15, 18])\n",
    "k = 3\n",
    "newline = '\\n'\n",
    "your_answer = repr(moving_average(x, k)).strip()\n",
    "real_answer = str(\"array([ 6.,  9., 12., 15.])\")\n",
    "assert your_answer == real_answer, f'Wrong output, see details below. {newline}{newline}Your answer {newline}{newline}({your_answer}){newline}{newline}Desired answer {newline}{newline}({real_answer}){newline}{newline}'\n",
    "print('<Test succeeded!>')"
   ]
  },
  {
   "cell_type": "markdown",
   "metadata": {
    "deletable": false,
    "editable": false
   },
   "source": [
    "<h1 id=\"exercise-8\"><strong>Exercise 8</strong></h1>\n"
   ]
  },
  {
   "cell_type": "markdown",
   "metadata": {
    "deletable": false,
    "editable": false
   },
   "source": [
    "<font size=\"4px\"><p>Provide the Python implementation of the following equation:</p>\n",
    "<div class=\"line-block\"></div>\n",
    "<p>\\begin{equation*} \\text{MSE} =\n",
    "\\frac{1}{n}\\sum_{i=1}^{n}(Y_i-\\widehat{Y}_i)^2\\end{equation*}</p>\n",
    "<dl>\n",
    "<dt>param y_true</dt>\n",
    "<dd>\n",
    "<p>ground truth target values</p>\n",
    "</dd>\n",
    "<dt>param y_pred</dt>\n",
    "<dd>\n",
    "<p>estimated target values</p>\n",
    "</dd>\n",
    "<dt>return</dt>\n",
    "<dd>\n",
    "<p>loss</p>\n",
    "</dd>\n",
    "<dt>example</dt>\n",
    "<dd>\n",
    "\n",
    "</dd>\n",
    "</dl>\n",
    "</font>"
   ]
  },
  {
   "cell_type": "code",
   "execution_count": null,
   "metadata": {},
   "outputs": [],
   "source": [
    "#mean_squared_error??"
   ]
  },
  {
   "cell_type": "code",
   "execution_count": null,
   "metadata": {
    "deletable": false,
    "editable": true
   },
   "outputs": [],
   "source": [
    "# Please add code to this function to complete the assignment.\n",
    "# You can use the description and code cells below to check you answer.\n",
    "# Tip: With print('hello') you can print debugging info.\n",
    "\n",
    "def mse_loss(y_true: Union[list, np.ndarray], y_pred: Union[list, np.ndarray]) -> float:\n",
    "    # Add/adjust code.\n",
    "    return mean_squared_error(y_true,y_pred)"
   ]
  },
  {
   "cell_type": "code",
   "execution_count": null,
   "metadata": {
    "deletable": false,
    "editable": false
   },
   "outputs": [],
   "source": [
    "# This cell performs a doctest of the function.\n",
    "y_true = [3, -0.5, 2, 7]\n",
    "y_pred = [2.5, 0.0, 2, 8]\n",
    "newline = '\\n'\n",
    "your_answer = repr(mse_loss(y_true, y_pred)).strip()\n",
    "real_answer = str(\"0.375\")\n",
    "assert your_answer == real_answer, f'Wrong output, see details below. {newline}{newline}Your answer {newline}{newline}({your_answer}){newline}{newline}Desired answer {newline}{newline}({real_answer}){newline}{newline}'\n",
    "print('<Test succeeded!>')"
   ]
  },
  {
   "cell_type": "markdown",
   "metadata": {
    "deletable": false,
    "editable": false
   },
   "source": [
    "<h1 id=\"exercise-9\"><strong>Exercise 9</strong></h1>\n"
   ]
  },
  {
   "cell_type": "markdown",
   "metadata": {
    "deletable": false,
    "editable": false
   },
   "source": [
    "<font size=\"4px\"><p>Provide the Python implementation of the following equation:</p>\n",
    "<div class=\"line-block\"></div>\n",
    "<p>\\begin{equation*} { \\text{Binary Cross Entropy Loss} } = -(y \\log(p)\n",
    "+ (1 - y) \\log(1 - p)) \\end{equation*}</p>\n",
    "<ul>\n",
    "<li>log - the natural log</li>\n",
    "<li>y - target as binary class id</li>\n",
    "<li>p - predicted probability</li>\n",
    "</ul>\n",
    "<dl>\n",
    "<dt>param y_target</dt>\n",
    "<dd>\n",
    "<p>ground truth target value (e.g. 0 or 1)</p>\n",
    "</dd>\n",
    "<dt>param p_pred</dt>\n",
    "<dd>\n",
    "<p>predicted probability of the positive (1) class</p>\n",
    "</dd>\n",
    "<dt>return</dt>\n",
    "<dd>\n",
    "<p>loss</p>\n",
    "</dd>\n",
    "<dt>example</dt>\n",
    "<dd>\n",
    "\n",
    "</dd>\n",
    "</dl>\n",
    "</font>"
   ]
  },
  {
   "cell_type": "markdown",
   "metadata": {
    "editable": false
   },
   "source": [
    "<font size=\"4px\"><p>Provide the Python implementation of the following equation:</p>\n",
    "<div class=\"line-block\"></div>\n",
    "<p>\\begin{equation*} { \\text{Binary Cross Entropy Loss} } = -(y \\log(p)\n",
    "+ (1 - y) \\log(1 - p)) \\end{equation*}</p>\n",
    "<ul>\n",
    "<li>log - the natural log</li>\n",
    "<li>y - target as binary class id</li>\n",
    "<li>p - predicted probability</li>\n",
    "</ul>\n",
    "<dl>\n",
    "<dt>param y_target</dt>\n",
    "<dd>\n",
    "<p>ground truth target value (e.g. 0 or 1)</p>\n",
    "</dd>\n",
    "<dt>param p_pred</dt>\n",
    "<dd>\n",
    "<p>predicted probability of the positive (1) class</p>\n",
    "</dd>\n",
    "<dt>return</dt>\n",
    "<dd>\n",
    "<p>loss</p>\n",
    "</dd>\n",
    "<dt>example</dt>\n",
    "<dd>\n",
    "\n",
    "</dd>\n",
    "</dl>\n",
    "</font>"
   ]
  },
  {
   "cell_type": "markdown",
   "metadata": {
    "editable": false
   },
   "source": [
    "<font size=\"4px\"><p>Provide the Python implementation of the following equation:</p>\n",
    "<div class=\"line-block\"></div>\n",
    "<p>\\begin{equation*} { \\text{Binary Cross Entropy Loss} } = -(y \\log(p)\n",
    "+ (1 - y) \\log(1 - p)) \\end{equation*}</p>\n",
    "<ul>\n",
    "<li>log - the natural log</li>\n",
    "<li>y - target as binary class id</li>\n",
    "<li>p - predicted probability</li>\n",
    "</ul>\n",
    "<dl>\n",
    "<dt>param y_target</dt>\n",
    "<dd>\n",
    "<p>ground truth target value (e.g. 0 or 1)</p>\n",
    "</dd>\n",
    "<dt>param p_pred</dt>\n",
    "<dd>\n",
    "<p>predicted probability of the positive (1) class</p>\n",
    "</dd>\n",
    "<dt>return</dt>\n",
    "<dd>\n",
    "<p>loss</p>\n",
    "</dd>\n",
    "<dt>example</dt>\n",
    "<dd>\n",
    "\n",
    "</dd>\n",
    "</dl>\n",
    "</font>"
   ]
  },
  {
   "cell_type": "code",
   "execution_count": null,
   "metadata": {},
   "outputs": [],
   "source": [
    "#log_loss"
   ]
  },
  {
   "cell_type": "code",
   "execution_count": null,
   "metadata": {
    "deletable": false,
    "editable": true
   },
   "outputs": [],
   "source": [
    "# Please add code to this function to complete the assignment.\n",
    "# You can use the description and code cells below to check you answer.\n",
    "# Tip: With print('hello') you can print debugging info.\n",
    "\n",
    "def binary_cross_entropy(y_target: int, p_pred: float) -> float:\n",
    "p_pred = max(min(p_pred, 1 - 1e-15), 1e-15)\n",
    "    return -(y_target * log(p_pred) + (1 - y_target) * log(1 - p_pred))"
   ]
  },
  {
   "cell_type": "code",
   "execution_count": null,
   "metadata": {
    "deletable": false,
    "editable": false
   },
   "outputs": [],
   "source": [
    "# This cell performs a doctest of the function.\n",
    "y_target = 0\n",
    "p_pred = .9\n",
    "newline = '\\n'\n",
    "your_answer = repr(round(binary_cross_entropy(y_target, p_pred), 2)).strip()\n",
    "real_answer = str(\"2.3\")\n",
    "assert your_answer == real_answer, f'Wrong output, see details below. {newline}{newline}Your answer {newline}{newline}({your_answer}){newline}{newline}Desired answer {newline}{newline}({real_answer}){newline}{newline}'\n",
    "print('<Test succeeded!>')"
   ]
  },
  {
   "cell_type": "markdown",
   "metadata": {
    "deletable": false,
    "editable": false
   },
   "source": [
    "<h1 id=\"exercise-10\"><strong>Exercise 10</strong></h1>\n"
   ]
  },
  {
   "cell_type": "markdown",
   "metadata": {
    "deletable": false,
    "editable": false
   },
   "source": [
    "<font size=\"4px\"><p>Provide the Python implementation of the following equation:</p>\n",
    "<div class=\"line-block\"></div>\n",
    "<p>\\begin{equation*} \\text{Cross Entropy Loss} = -\\sum_{c = 1}^{M}y_{c}\n",
    "\\log(p_{c})\\end{equation*}</p>\n",
    "<ul>\n",
    "<li>M - number of classes</li>\n",
    "<li>log - the natural log</li>\n",
    "<li>y - target as one-hot encoding</li>\n",
    "<li>p - predicted probabilities</li>\n",
    "</ul>\n",
    "<dl>\n",
    "<dt>param y_target</dt>\n",
    "<dd>\n",
    "<p>ground truth target values (e.g. [1, 0, 0], [0, 1, 0] or [0, 0, 1]\n",
    "for three classes</p>\n",
    "</dd>\n",
    "<dt>param p_pred</dt>\n",
    "<dd>\n",
    "<p>predicted probabilities (e.g. [0.15, 0.65, 0.2])</p>\n",
    "</dd>\n",
    "<dt>return</dt>\n",
    "<dd>\n",
    "<p>loss</p>\n",
    "</dd>\n",
    "<dt>example</dt>\n",
    "<dd>\n",
    "\n",
    "</dd>\n",
    "</dl>\n",
    "</font>"
   ]
  },
  {
   "cell_type": "markdown",
   "metadata": {
    "deletable": false,
    "editable": false
   },
   "source": [
    "<font size=\"4px\">\n",
    "</font>"
   ]
  },
  {
   "cell_type": "markdown",
   "metadata": {
    "deletable": false,
    "editable": false
   },
   "source": [
    "<font size=\"4px\">\n",
    "</font>"
   ]
  },
  {
   "cell_type": "code",
   "execution_count": null,
   "metadata": {
    "deletable": false,
    "editable": true
   },
   "outputs": [],
   "source": [
    "# Please add code to this function to complete the assignment.\n",
    "# You can use the description and code cells below to check you answer.\n",
    "# Tip: With print('hello') you can print debugging info.\n",
    "\n",
    "def sample_cross_entropy_loss(y_target: Union[list, np.ndarray], p_pred: Union[list, np.ndarray]) -> float:\n",
    "    # Add/adjust code.\n",
    "    return"
   ]
  },
  {
   "cell_type": "code",
   "execution_count": null,
   "metadata": {
    "deletable": false,
    "editable": false
   },
   "outputs": [],
   "source": [
    "# This cell performs a doctest of the function.\n",
    "y_target = [0, 0, 1]\n",
    "p_pred = [.15, .65, 0.2]\n",
    "newline = '\\n'\n",
    "your_answer = repr(round(sample_cross_entropy_loss(y_target, p_pred), 2)).strip()\n",
    "real_answer = str(\"1.61\")\n",
    "assert your_answer == real_answer, f'Wrong output, see details below. {newline}{newline}Your answer {newline}{newline}({your_answer}){newline}{newline}Desired answer {newline}{newline}({real_answer}){newline}{newline}'\n",
    "print('<Test succeeded!>')"
   ]
  },
  {
   "cell_type": "code",
   "execution_count": null,
   "metadata": {
    "deletable": false,
    "editable": false
   },
   "outputs": [],
   "source": [
    "# This cell performs a doctest of the function.\n",
    "y_target = [0, 0, 1]\n",
    "p_pred = [.15, .05, 0.8]\n",
    "newline = '\\n'\n",
    "your_answer = repr(round(sample_cross_entropy_loss(y_target, p_pred), 2)).strip()\n",
    "real_answer = str(\"0.22\")\n",
    "assert your_answer == real_answer, f'Wrong output, see details below. {newline}{newline}Your answer {newline}{newline}({your_answer}){newline}{newline}Desired answer {newline}{newline}({real_answer}){newline}{newline}'\n",
    "print('<Test succeeded!>')"
   ]
  },
  {
   "cell_type": "code",
   "execution_count": null,
   "metadata": {
    "deletable": false,
    "editable": false
   },
   "outputs": [],
   "source": [
    "# This cell performs a doctest of the function.\n",
    "y_target = [0, 0, 0, 0, 1, 0, 0]\n",
    "p_pred = [.35, .15, 0.1, 0.05, 0.15, 0.05, 0.15]\n",
    "newline = '\\n'\n",
    "your_answer = repr(round(sample_cross_entropy_loss(y_target, p_pred), 2)).strip()\n",
    "real_answer = str(\"1.9\")\n",
    "assert your_answer == real_answer, f'Wrong output, see details below. {newline}{newline}Your answer {newline}{newline}({your_answer}){newline}{newline}Desired answer {newline}{newline}({real_answer}){newline}{newline}'\n",
    "print('<Test succeeded!>')"
   ]
  },
  {
   "cell_type": "markdown",
   "metadata": {
    "deletable": false,
    "editable": false
   },
   "source": [
    "<h1 id=\"exercise-11\"><strong>Exercise 11</strong></h1>\n"
   ]
  },
  {
   "cell_type": "markdown",
   "metadata": {
    "deletable": false,
    "editable": false
   },
   "source": [
    "<font size=\"4px\"><p>Provide the Python implementation of the following equation:</p>\n",
    "<div class=\"line-block\"></div>\n",
    "<p>\\begin{equation*} \\text{Cross Entropy Loss} = -\\frac{1}{N}\\sum_{s =\n",
    "1}^{N}\\sum_{c = 1}^{M}y_{s,c} \\log(p_{s,c})\\end{equation*}</p>\n",
    "<ul>\n",
    "<li>N - number of samples</li>\n",
    "<li>M - number of classes</li>\n",
    "<li>log - the natural log</li>\n",
    "<li>y - target as one-hot encoding of sample s</li>\n",
    "<li>p - predicted probabilities of sample s for each class c</li>\n",
    "</ul>\n",
    "<dl>\n",
    "<dt>param y_target</dt>\n",
    "<dd>\n",
    "<p>ground truth target values</p>\n",
    "</dd>\n",
    "<dt>param p_pred</dt>\n",
    "<dd>\n",
    "<p>predicted probabilities</p>\n",
    "</dd>\n",
    "<dt>return</dt>\n",
    "<dd>\n",
    "<p>loss</p>\n",
    "</dd>\n",
    "<dt>example</dt>\n",
    "<dd>\n",
    "\n",
    "</dd>\n",
    "</dl>\n",
    "</font>"
   ]
  },
  {
   "cell_type": "code",
   "execution_count": null,
   "metadata": {
    "deletable": false,
    "editable": true
   },
   "outputs": [],
   "source": [
    "# Please add code to this function to complete the assignment.\n",
    "# You can use the description and code cells below to check you answer.\n",
    "# Tip: With print('hello') you can print debugging info.\n",
    "\n",
    "def cross_entropy_loss(y_target: Union[list, np.ndarray], p_pred: Union[list, np.ndarray]) -> float:\n",
    "    # Add/adjust code.\n",
    "    return"
   ]
  },
  {
   "cell_type": "code",
   "execution_count": null,
   "metadata": {
    "deletable": false,
    "editable": false
   },
   "outputs": [],
   "source": [
    "# This cell performs a doctest of the function.\n",
    "y_target = [[0, 0, 1], [1, 0, 0]]\n",
    "p_pred = [[.3, .1, .6], [.7, .1, .2]]\n",
    "newline = '\\n'\n",
    "your_answer = repr(round(cross_entropy_loss(y_target, p_pred), 2)).strip()\n",
    "real_answer = str(\"0.43\")\n",
    "assert your_answer == real_answer, f'Wrong output, see details below. {newline}{newline}Your answer {newline}{newline}({your_answer}){newline}{newline}Desired answer {newline}{newline}({real_answer}){newline}{newline}'\n",
    "print('<Test succeeded!>')"
   ]
  },
  {
   "cell_type": "markdown",
   "metadata": {
    "deletable": false,
    "editable": false
   },
   "source": [
    "<h1 id=\"exercise-12\"><strong>Exercise 12</strong></h1>\n"
   ]
  },
  {
   "cell_type": "markdown",
   "metadata": {
    "deletable": false,
    "editable": false
   },
   "source": [
    "<font size=\"4px\"><p>Provide the Python implementation of the following equation:</p>\n",
    "<p>\\begin{equation*} y_x=\\frac{1}{1+e^{-x}} \\end{equation*}</p>\n",
    "<p>This method computes the sigmoid function.</p>\n",
    "<dl>\n",
    "<dt>param x</dt>\n",
    "<dd>\n",
    "<p>input data</p>\n",
    "</dd>\n",
    "<dt>return</dt>\n",
    "<dd>\n",
    "<p>sigmoid normalized data</p>\n",
    "</dd>\n",
    "<dt>example</dt>\n",
    "<dd>\n",
    "\n",
    "</dd>\n",
    "</dl>\n",
    "</font>"
   ]
  },
  {
   "cell_type": "code",
   "execution_count": null,
   "metadata": {
    "deletable": false,
    "editable": true
   },
   "outputs": [],
   "source": [
    "# Please add code to this function to complete the assignment.\n",
    "# You can use the description and code cells below to check you answer.\n",
    "# Tip: With print('hello') you can print debugging info.\n",
    "\n",
    "def sigmoid(x: np.ndarray):\n",
    "    # Add/adjust code.\n",
    "    return"
   ]
  },
  {
   "cell_type": "code",
   "execution_count": null,
   "metadata": {
    "deletable": false,
    "editable": false
   },
   "outputs": [],
   "source": [
    "# This cell performs a doctest of the function.\n",
    "x = np.array([3, 2, 1])\n",
    "newline = '\\n'\n",
    "your_answer = repr(np.round(sigmoid(x), 3)).strip()\n",
    "real_answer = str(\"array([0.953, 0.881, 0.731])\")\n",
    "assert your_answer == real_answer, f'Wrong output, see details below. {newline}{newline}Your answer {newline}{newline}({your_answer}){newline}{newline}Desired answer {newline}{newline}({real_answer}){newline}{newline}'\n",
    "print('<Test succeeded!>')"
   ]
  },
  {
   "cell_type": "markdown",
   "metadata": {
    "deletable": false,
    "editable": false
   },
   "source": [
    "<h1 id=\"exercise-13\"><strong>Exercise 13</strong></h1>\n"
   ]
  },
  {
   "cell_type": "markdown",
   "metadata": {
    "deletable": false,
    "editable": false
   },
   "source": [
    "<font size=\"4px\"><p>This method computes the derivative of the sigmoid function with\n",
    "respect to x.</p>\n",
    "<dl>\n",
    "<dt>param x</dt>\n",
    "<dd>\n",
    "<p>input vector</p>\n",
    "</dd>\n",
    "<dt>return</dt>\n",
    "<dd>\n",
    "<p>derivative of the sigmoid function with respect to x</p>\n",
    "</dd>\n",
    "<dt>example</dt>\n",
    "<dd>\n",
    "\n",
    "</dd>\n",
    "</dl>\n",
    "</font>"
   ]
  },
  {
   "cell_type": "code",
   "execution_count": null,
   "metadata": {
    "deletable": false,
    "editable": true
   },
   "outputs": [],
   "source": [
    "# Please add code to this function to complete the assignment.\n",
    "# You can use the description and code cells below to check you answer.\n",
    "# Tip: With print('hello') you can print debugging info.\n",
    "\n",
    "def derivative_sigmoid(x: np.ndarray):\n",
    "    # Add/adjust code.\n",
    "    return"
   ]
  },
  {
   "cell_type": "code",
   "execution_count": null,
   "metadata": {
    "deletable": false,
    "editable": false
   },
   "outputs": [],
   "source": [
    "# This cell performs a doctest of the function.\n",
    "x = np.array([3, 2, 1])\n",
    "newline = '\\n'\n",
    "your_answer = repr(np.round(derivative_sigmoid(x), 3)).strip()\n",
    "real_answer = str(\"array([0.045, 0.105, 0.197])\")\n",
    "assert your_answer == real_answer, f'Wrong output, see details below. {newline}{newline}Your answer {newline}{newline}({your_answer}){newline}{newline}Desired answer {newline}{newline}({real_answer}){newline}{newline}'\n",
    "print('<Test succeeded!>')"
   ]
  },
  {
   "cell_type": "markdown",
   "metadata": {
    "deletable": false,
    "editable": false
   },
   "source": [
    "<h1 id=\"exercise-14\"><strong>Exercise 14</strong></h1>\n"
   ]
  },
  {
   "cell_type": "markdown",
   "metadata": {
    "deletable": false,
    "editable": false
   },
   "source": [
    "<font size=\"4px\"><p>Provide the Python implementation of the following equation:</p>\n",
    "<div class=\"line-block\"></div>\n",
    "<p>\\begin{equation*} y_x= max(0, x) \\end{equation*}</p>\n",
    "<dl>\n",
    "<dt>param x</dt>\n",
    "<dd>\n",
    "<p>input</p>\n",
    "</dd>\n",
    "<dt>return</dt>\n",
    "<dd>\n",
    "<p>reLU output</p>\n",
    "</dd>\n",
    "<dt>example</dt>\n",
    "<dd>\n",
    "\n",
    "</dd>\n",
    "</dl>\n",
    "</font>"
   ]
  },
  {
   "cell_type": "code",
   "execution_count": null,
   "metadata": {
    "deletable": false,
    "editable": true
   },
   "outputs": [],
   "source": [
    "# Please add code to this function to complete the assignment.\n",
    "# You can use the description and code cells below to check you answer.\n",
    "# Tip: With print('hello') you can print debugging info.\n",
    "\n",
    "def relu(x: np.ndarray):\n",
    "    # Add/adjust code.\n",
    "    return"
   ]
  },
  {
   "cell_type": "code",
   "execution_count": null,
   "metadata": {
    "deletable": false,
    "editable": false
   },
   "outputs": [],
   "source": [
    "# This cell performs a doctest of the function.\n",
    "newline = '\\n'\n",
    "your_answer = repr(relu(np.array([1]))).strip()\n",
    "real_answer = str(\"array([1])\")\n",
    "assert your_answer == real_answer, f'Wrong output, see details below. {newline}{newline}Your answer {newline}{newline}({your_answer}){newline}{newline}Desired answer {newline}{newline}({real_answer}){newline}{newline}'\n",
    "print('<Test succeeded!>')"
   ]
  },
  {
   "cell_type": "code",
   "execution_count": null,
   "metadata": {
    "deletable": false,
    "editable": false
   },
   "outputs": [],
   "source": [
    "# This cell performs a doctest of the function.\n",
    "newline = '\\n'\n",
    "your_answer = repr(relu(np.array([0]))).strip()\n",
    "real_answer = str(\"array([0])\")\n",
    "assert your_answer == real_answer, f'Wrong output, see details below. {newline}{newline}Your answer {newline}{newline}({your_answer}){newline}{newline}Desired answer {newline}{newline}({real_answer}){newline}{newline}'\n",
    "print('<Test succeeded!>')"
   ]
  },
  {
   "cell_type": "code",
   "execution_count": null,
   "metadata": {
    "deletable": false,
    "editable": false
   },
   "outputs": [],
   "source": [
    "# This cell performs a doctest of the function.\n",
    "newline = '\\n'\n",
    "your_answer = repr(relu(np.array([-1]))).strip()\n",
    "real_answer = str(\"array([0])\")\n",
    "assert your_answer == real_answer, f'Wrong output, see details below. {newline}{newline}Your answer {newline}{newline}({your_answer}){newline}{newline}Desired answer {newline}{newline}({real_answer}){newline}{newline}'\n",
    "print('<Test succeeded!>')"
   ]
  },
  {
   "cell_type": "code",
   "execution_count": null,
   "metadata": {
    "deletable": false,
    "editable": false
   },
   "outputs": [],
   "source": [
    "# This cell performs a doctest of the function.\n",
    "newline = '\\n'\n",
    "your_answer = repr(relu(np.array([-1, 0, -2, 2]))).strip()\n",
    "real_answer = str(\"array([0, 0, 0, 2])\")\n",
    "assert your_answer == real_answer, f'Wrong output, see details below. {newline}{newline}Your answer {newline}{newline}({your_answer}){newline}{newline}Desired answer {newline}{newline}({real_answer}){newline}{newline}'\n",
    "print('<Test succeeded!>')"
   ]
  },
  {
   "cell_type": "markdown",
   "metadata": {
    "deletable": false,
    "editable": false
   },
   "source": [
    "<h1 id=\"exercise-15\"><strong>Exercise 15</strong></h1>\n"
   ]
  },
  {
   "cell_type": "markdown",
   "metadata": {
    "deletable": false,
    "editable": false
   },
   "source": [
    "<font size=\"4px\"><p>Provide the Python implementation for the derivative of the ReLU\n",
    "activation function:</p>\n",
    "<dl>\n",
    "<dt>param x</dt>\n",
    "<dd>\n",
    "<p>input</p>\n",
    "</dd>\n",
    "<dt>return</dt>\n",
    "<dd>\n",
    "<p>reLU derivative of x</p>\n",
    "</dd>\n",
    "<dt>example</dt>\n",
    "<dd>\n",
    "\n",
    "</dd>\n",
    "</dl>\n",
    "</font>"
   ]
  },
  {
   "cell_type": "code",
   "execution_count": null,
   "metadata": {
    "deletable": false,
    "editable": true
   },
   "outputs": [],
   "source": [
    "# Please add code to this function to complete the assignment.\n",
    "# You can use the description and code cells below to check you answer.\n",
    "# Tip: With print('hello') you can print debugging info.\n",
    "\n",
    "def relu_derivative(x: np.ndarray):\n",
    "    # Add/adjust code.\n",
    "    return"
   ]
  },
  {
   "cell_type": "code",
   "execution_count": null,
   "metadata": {
    "deletable": false,
    "editable": false
   },
   "outputs": [],
   "source": [
    "# This cell performs a doctest of the function.\n",
    "newline = '\\n'\n",
    "your_answer = repr(relu_derivative(np.array([1]))).strip()\n",
    "real_answer = str(\"array([1])\")\n",
    "assert your_answer == real_answer, f'Wrong output, see details below. {newline}{newline}Your answer {newline}{newline}({your_answer}){newline}{newline}Desired answer {newline}{newline}({real_answer}){newline}{newline}'\n",
    "print('<Test succeeded!>')"
   ]
  },
  {
   "cell_type": "code",
   "execution_count": null,
   "metadata": {
    "deletable": false,
    "editable": false
   },
   "outputs": [],
   "source": [
    "# This cell performs a doctest of the function.\n",
    "newline = '\\n'\n",
    "your_answer = repr(relu_derivative(np.array([0]))).strip()\n",
    "real_answer = str(\"array([0])\")\n",
    "assert your_answer == real_answer, f'Wrong output, see details below. {newline}{newline}Your answer {newline}{newline}({your_answer}){newline}{newline}Desired answer {newline}{newline}({real_answer}){newline}{newline}'\n",
    "print('<Test succeeded!>')"
   ]
  },
  {
   "cell_type": "code",
   "execution_count": null,
   "metadata": {
    "deletable": false,
    "editable": false
   },
   "outputs": [],
   "source": [
    "# This cell performs a doctest of the function.\n",
    "newline = '\\n'\n",
    "your_answer = repr(relu_derivative(np.array([-1]))).strip()\n",
    "real_answer = str(\"array([0])\")\n",
    "assert your_answer == real_answer, f'Wrong output, see details below. {newline}{newline}Your answer {newline}{newline}({your_answer}){newline}{newline}Desired answer {newline}{newline}({real_answer}){newline}{newline}'\n",
    "print('<Test succeeded!>')"
   ]
  },
  {
   "cell_type": "code",
   "execution_count": null,
   "metadata": {
    "deletable": false,
    "editable": false
   },
   "outputs": [],
   "source": [
    "# This cell performs a doctest of the function.\n",
    "newline = '\\n'\n",
    "your_answer = repr(relu_derivative(np.array([-1, 0, -2, 2]))).strip()\n",
    "real_answer = str(\"array([0, 0, 0, 1])\")\n",
    "assert your_answer == real_answer, f'Wrong output, see details below. {newline}{newline}Your answer {newline}{newline}({your_answer}){newline}{newline}Desired answer {newline}{newline}({real_answer}){newline}{newline}'\n",
    "print('<Test succeeded!>')"
   ]
  },
  {
   "cell_type": "markdown",
   "metadata": {
    "deletable": false,
    "editable": false
   },
   "source": [
    "<h1 id=\"exercise-16\"><strong>Exercise 16</strong></h1>\n"
   ]
  },
  {
   "cell_type": "markdown",
   "metadata": {
    "deletable": false,
    "editable": false
   },
   "source": [
    "<font size=\"4px\"><p>Provide the Python implementation of the following equation:</p>\n",
    "<div class=\"line-block\"></div>\n",
    "<p>\\begin{equation*} \\frac{d}{d x}[f(x) g(x)]=f(x)\n",
    "g^{\\prime}(x)+f^{\\prime}(x) g(x) \\end{equation*}</p>\n",
    "<p>Compute the value of the derivative of f * g at location x with\n",
    "offset h</p>\n",
    "<dl>\n",
    "<dt>param f</dt>\n",
    "<dd>\n",
    "<p>function f</p>\n",
    "</dd>\n",
    "<dt>param g</dt>\n",
    "<dd>\n",
    "<p>function g</p>\n",
    "</dd>\n",
    "<dt>param x</dt>\n",
    "<dd>\n",
    "<p>input</p>\n",
    "</dd>\n",
    "<dt>param h</dt>\n",
    "<dd>\n",
    "<p>offset to x</p>\n",
    "</dd>\n",
    "<dt>return</dt>\n",
    "<dd>\n",
    "\n",
    "</dd>\n",
    "</dl>\n",
    "</font>"
   ]
  },
  {
   "cell_type": "code",
   "execution_count": null,
   "metadata": {
    "deletable": false,
    "editable": true
   },
   "outputs": [],
   "source": [
    "# Please add code to this function to complete the assignment.\n",
    "# You can use the description and code cells below to check you answer.\n",
    "# Tip: With print('hello') you can print debugging info.\n",
    "\n",
    "def product_rule(f, g, x, h):\n",
    "    # Add/adjust code.\n",
    "    return"
   ]
  },
  {
   "cell_type": "code",
   "execution_count": null,
   "metadata": {
    "deletable": false,
    "editable": false
   },
   "outputs": [],
   "source": [
    "# This cell performs a doctest of the function.\n",
    "f = lambda x : 3 * x ** 2 - (4 * x)\n",
    "g = lambda x : 12 * x ** 2 + 3 * x + 4\n",
    "newline = '\\n'\n",
    "your_answer = repr(round(product_rule(f, g, 1, 0.00001), 3)).strip()\n",
    "real_answer = str(\"11.0\")\n",
    "assert your_answer == real_answer, f'Wrong output, see details below. {newline}{newline}Your answer {newline}{newline}({your_answer}){newline}{newline}Desired answer {newline}{newline}({real_answer}){newline}{newline}'\n",
    "print('<Test succeeded!>')"
   ]
  },
  {
   "cell_type": "markdown",
   "metadata": {
    "deletable": false,
    "editable": false
   },
   "source": [
    "<h1 id=\"exercise-17\"><strong>Exercise 17</strong></h1>\n"
   ]
  },
  {
   "cell_type": "markdown",
   "metadata": {
    "deletable": false,
    "editable": false
   },
   "source": [
    "<font size=\"4px\"><p>Provide the Python implementation of the following equation:</p>\n",
    "<div class=\"line-block\"></div>\n",
    "<p>\\begin{equation*} y =\n",
    "\\frac{x-\\mathrm{E}[x]}{\\sqrt{\\operatorname{Var}[x]+\\epsilon}} * \\gamma +\n",
    "\\beta \\end{equation*}</p>\n",
    "<p>This function implements the training aspect of batch normalization\n",
    "on feature vectors. Normalization is performed over the batch dimension\n",
    "input. For simplicity, you may assume that the scaling (gamma) and\n",
    "shifting (beta) terms are 1 and 0 respectively. Additionally, you can\n",
    "pick a small value for epsilon (e.g. 1e-8) You are also not required to\n",
    "store the running estimates of the mean and variance. :param x: [b x f]\n",
    ":return:</p>\n",
    "</font>"
   ]
  },
  {
   "cell_type": "code",
   "execution_count": null,
   "metadata": {
    "deletable": false,
    "editable": true
   },
   "outputs": [],
   "source": [
    "# Please add code to this function to complete the assignment.\n",
    "# You can use the description and code cells below to check you answer.\n",
    "# Tip: With print('hello') you can print debugging info.\n",
    "\n",
    "def batch_normalization_fully_connected(x: np.ndarray):\n",
    "    # Add/adjust code.\n",
    "    return"
   ]
  },
  {
   "cell_type": "code",
   "execution_count": null,
   "metadata": {
    "deletable": false,
    "editable": false
   },
   "outputs": [],
   "source": [
    "# This cell performs a doctest of the function.\n",
    "x = np.array([[7, 2, 6, 8], [10, 1, 2, 5], [10, 3, 2, 5], [10, 1, 2, 6]])\n",
    "newline = '\\n'\n",
    "your_answer = repr(np.round(batch_normalization_fully_connected(x), 3)).strip()\n",
    "real_answer = str(\"array([[-1.732,  0.302,  1.732,  1.633],\\n       [ 0.577, -0.905, -0.577, -0.816],\\n       [ 0.577,  1.508, -0.577, -0.816],\\n       [ 0.577, -0.905, -0.577,  0.   ]])\")\n",
    "assert your_answer == real_answer, f'Wrong output, see details below. {newline}{newline}Your answer {newline}{newline}({your_answer}){newline}{newline}Desired answer {newline}{newline}({real_answer}){newline}{newline}'\n",
    "print('<Test succeeded!>')"
   ]
  }
 ],
 "metadata": {
  "celltoolbar": "Create Assignment",
  "kernelspec": {
   "display_name": "Python 3 (ipykernel)",
   "language": "python",
   "name": "python3"
  },
  "language_info": {
   "codemirror_mode": {
    "name": "ipython",
    "version": 3
   },
   "file_extension": ".py",
   "mimetype": "text/x-python",
   "name": "python",
   "nbconvert_exporter": "python",
   "pygments_lexer": "ipython3",
   "version": "3.12.3"
  }
 },
 "nbformat": 4,
 "nbformat_minor": 4
}
